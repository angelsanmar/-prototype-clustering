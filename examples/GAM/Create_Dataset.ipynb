{
 "cells": [
  {
   "cell_type": "markdown",
   "id": "6340f5f9",
   "metadata": {},
   "source": [
    "# Preparar Dataset\n",
    "\n",
    "Este notebook se encarga de extrar la información almacenada en los Excel de la carpeta `data/GAM/Result ResArtEmotion`. El resultado será un fichero json con los datos personales de los usuarios, y otro fichero json con las respuestas que ha hecho cada usuario a las obras que se muestran en la encuesta."
   ]
  },
  {
   "cell_type": "code",
   "execution_count": 1,
   "id": "6a766f4b",
   "metadata": {},
   "outputs": [],
   "source": [
    "import pandas as pd"
   ]
  },
  {
   "cell_type": "code",
   "execution_count": 2,
   "id": "0f4fe2fa",
   "metadata": {},
   "outputs": [],
   "source": [
    "# Leemos los datos personales de los usuarios\n",
    "\n",
    "path = '../../data/GAM/ResArtEmotion/Personal data.xlsx'\n",
    "\n",
    "personal_data_it_df = pd.read_excel(path, sheet_name=\"IT\")\n",
    "personal_data_it_df.rename(columns={'How would you define your relationship with art?': 'How would you define your relationship with Art?'}, inplace=True)\n",
    "\n",
    "personal_data_en_df = pd.read_excel(path, sheet_name=\"EN\")\n",
    "personal_data_es_df = pd.read_excel(path, sheet_name=\"ES\")\n",
    "personal_data_he_df = pd.read_excel(path, sheet_name=\"HE\")\n",
    "personal_data_fi_df = pd.read_excel(path, sheet_name=\"FI\")"
   ]
  },
  {
   "cell_type": "code",
   "execution_count": 3,
   "id": "862d352b",
   "metadata": {},
   "outputs": [
    {
     "data": {
      "text/html": [
       "<div>\n",
       "<style scoped>\n",
       "    .dataframe tbody tr th:only-of-type {\n",
       "        vertical-align: middle;\n",
       "    }\n",
       "\n",
       "    .dataframe tbody tr th {\n",
       "        vertical-align: top;\n",
       "    }\n",
       "\n",
       "    .dataframe thead th {\n",
       "        text-align: right;\n",
       "    }\n",
       "</style>\n",
       "<table border=\"1\" class=\"dataframe\">\n",
       "  <thead>\n",
       "    <tr style=\"text-align: right;\">\n",
       "      <th></th>\n",
       "      <th>Gender</th>\n",
       "      <th>Age</th>\n",
       "      <th>How would you define your relationship with Art?</th>\n",
       "      <th>Do you like going to museums or art exhibitions?</th>\n",
       "    </tr>\n",
       "  </thead>\n",
       "  <tbody>\n",
       "    <tr>\n",
       "      <th>0</th>\n",
       "      <td>Male</td>\n",
       "      <td>53</td>\n",
       "      <td>I am passionate about the art</td>\n",
       "      <td>I go occasionally to museums or art exhibitions</td>\n",
       "    </tr>\n",
       "    <tr>\n",
       "      <th>1</th>\n",
       "      <td>Female</td>\n",
       "      <td>23</td>\n",
       "      <td>I am a little interested in art</td>\n",
       "      <td>I go occasionally to museums or art exhibitions</td>\n",
       "    </tr>\n",
       "    <tr>\n",
       "      <th>2</th>\n",
       "      <td>Male</td>\n",
       "      <td>55</td>\n",
       "      <td>I am a little interested in art</td>\n",
       "      <td>I go occasionally to museums or art exhibitions</td>\n",
       "    </tr>\n",
       "    <tr>\n",
       "      <th>3</th>\n",
       "      <td>Male</td>\n",
       "      <td>38</td>\n",
       "      <td>I am a little interested in art</td>\n",
       "      <td>I rarely visit museums or art exhibitions</td>\n",
       "    </tr>\n",
       "    <tr>\n",
       "      <th>4</th>\n",
       "      <td>Female</td>\n",
       "      <td>54</td>\n",
       "      <td>I am passionate about the art</td>\n",
       "      <td>I go occasionally to museums or art exhibitions</td>\n",
       "    </tr>\n",
       "  </tbody>\n",
       "</table>\n",
       "</div>"
      ],
      "text/plain": [
       "   Gender Age How would you define your relationship with Art?  \\\n",
       "0    Male  53                    I am passionate about the art   \n",
       "1  Female  23                  I am a little interested in art   \n",
       "2    Male  55                  I am a little interested in art   \n",
       "3    Male  38                  I am a little interested in art   \n",
       "4  Female  54                    I am passionate about the art   \n",
       "\n",
       "  Do you like going to museums or art exhibitions?  \n",
       "0  I go occasionally to museums or art exhibitions  \n",
       "1  I go occasionally to museums or art exhibitions  \n",
       "2  I go occasionally to museums or art exhibitions  \n",
       "3        I rarely visit museums or art exhibitions  \n",
       "4  I go occasionally to museums or art exhibitions  "
      ]
     },
     "execution_count": 3,
     "metadata": {},
     "output_type": "execute_result"
    }
   ],
   "source": [
    "personal_data_df = pd.concat([personal_data_it_df, personal_data_en_df, personal_data_es_df, personal_data_he_df, personal_data_fi_df])\n",
    "personal_data_df.head()"
   ]
  },
  {
   "cell_type": "code",
   "execution_count": 4,
   "id": "74e655d4",
   "metadata": {},
   "outputs": [],
   "source": [
    "new_columns = {\n",
    "    'How would you define your relationship with Art?': 'Art Relationship',\n",
    "    'Do you like going to museums or art exhibitions?': 'Visit museums'\n",
    "}\n",
    "\n",
    "personal_data_df.rename(columns=new_columns, inplace=True)"
   ]
  },
  {
   "cell_type": "code",
   "execution_count": 5,
   "id": "72246f80",
   "metadata": {},
   "outputs": [],
   "source": [
    "# Cambiamos las respuestas por valores numéricos:\n",
    "\n",
    "relationship_with_art = {\n",
    "    'My job is related to the art world': 3,\n",
    "    'I am passionate about the art': 2,\n",
    "    'I am a little interested in art': 1,\n",
    "    'I am not interested in art': 0\n",
    "}\n",
    "\n",
    "visit_museums = {\n",
    "    'I like to visit museums frequently': 2,\n",
    "    'I go occasionally to museums or art exhibitions': 1,\n",
    "    'I rarely visit museums or art exhibitions': 0\n",
    "}"
   ]
  },
  {
   "cell_type": "code",
   "execution_count": 6,
   "id": "559b02e1",
   "metadata": {},
   "outputs": [
    {
     "data": {
      "text/html": [
       "<div>\n",
       "<style scoped>\n",
       "    .dataframe tbody tr th:only-of-type {\n",
       "        vertical-align: middle;\n",
       "    }\n",
       "\n",
       "    .dataframe tbody tr th {\n",
       "        vertical-align: top;\n",
       "    }\n",
       "\n",
       "    .dataframe thead th {\n",
       "        text-align: right;\n",
       "    }\n",
       "</style>\n",
       "<table border=\"1\" class=\"dataframe\">\n",
       "  <thead>\n",
       "    <tr style=\"text-align: right;\">\n",
       "      <th></th>\n",
       "      <th>Gender</th>\n",
       "      <th>Age</th>\n",
       "      <th>Visit museums</th>\n",
       "    </tr>\n",
       "    <tr>\n",
       "      <th>Art Relationship</th>\n",
       "      <th></th>\n",
       "      <th></th>\n",
       "      <th></th>\n",
       "    </tr>\n",
       "  </thead>\n",
       "  <tbody>\n",
       "    <tr>\n",
       "      <th>I am a little interested in art</th>\n",
       "      <td>39</td>\n",
       "      <td>39</td>\n",
       "      <td>39</td>\n",
       "    </tr>\n",
       "    <tr>\n",
       "      <th>I am a little interested in art, I am not interested in art</th>\n",
       "      <td>1</td>\n",
       "      <td>1</td>\n",
       "      <td>1</td>\n",
       "    </tr>\n",
       "    <tr>\n",
       "      <th>I am not interested in art</th>\n",
       "      <td>4</td>\n",
       "      <td>4</td>\n",
       "      <td>4</td>\n",
       "    </tr>\n",
       "    <tr>\n",
       "      <th>I am passionate about the art</th>\n",
       "      <td>41</td>\n",
       "      <td>39</td>\n",
       "      <td>40</td>\n",
       "    </tr>\n",
       "    <tr>\n",
       "      <th>I am passionate about the art, I am a little interested in art</th>\n",
       "      <td>1</td>\n",
       "      <td>1</td>\n",
       "      <td>1</td>\n",
       "    </tr>\n",
       "    <tr>\n",
       "      <th>My job is related to the art world</th>\n",
       "      <td>24</td>\n",
       "      <td>23</td>\n",
       "      <td>24</td>\n",
       "    </tr>\n",
       "    <tr>\n",
       "      <th>My job is related to the art world, I am a little interested in art</th>\n",
       "      <td>1</td>\n",
       "      <td>1</td>\n",
       "      <td>1</td>\n",
       "    </tr>\n",
       "    <tr>\n",
       "      <th>My job is related to the art world, I am passionate about the art</th>\n",
       "      <td>14</td>\n",
       "      <td>14</td>\n",
       "      <td>14</td>\n",
       "    </tr>\n",
       "    <tr>\n",
       "      <th>My job is related to the art world, I am passionate about the art, I am passionate about the art</th>\n",
       "      <td>1</td>\n",
       "      <td>1</td>\n",
       "      <td>1</td>\n",
       "    </tr>\n",
       "  </tbody>\n",
       "</table>\n",
       "</div>"
      ],
      "text/plain": [
       "                                                    Gender  Age  Visit museums\n",
       "Art Relationship                                                              \n",
       "I am a little interested in art                         39   39             39\n",
       "I am a little interested in art, I am not inter...       1    1              1\n",
       "I am not interested in art                               4    4              4\n",
       "I am passionate about the art                           41   39             40\n",
       "I am passionate about the art, I am a little in...       1    1              1\n",
       "My job is related to the art world                      24   23             24\n",
       "My job is related to the art world, I am a litt...       1    1              1\n",
       "My job is related to the art world, I am passio...      14   14             14\n",
       "My job is related to the art world, I am passio...       1    1              1"
      ]
     },
     "execution_count": 6,
     "metadata": {},
     "output_type": "execute_result"
    }
   ],
   "source": [
    "personal_data_df.groupby(by='Art Relationship').count()"
   ]
  },
  {
   "cell_type": "code",
   "execution_count": 7,
   "id": "d41ab5df",
   "metadata": {},
   "outputs": [],
   "source": [
    "def change_art_relationship(row):\n",
    "    if isinstance(row['Art Relationship'], str):\n",
    "        options = row['Art Relationship'].split(', ')\n",
    "        return [relationship_with_art[o] for o in options]\n",
    "    else:\n",
    "        return []\n",
    "\n",
    "def change_visit_museums(row):\n",
    "    if isinstance(row['Visit museums'], str):\n",
    "        return visit_museums[row['Visit museums']]\n",
    "    else:\n",
    "        return -1"
   ]
  },
  {
   "cell_type": "code",
   "execution_count": 8,
   "id": "d0c0aa5d",
   "metadata": {},
   "outputs": [],
   "source": [
    "personal_data_df['Art Relationship'] = personal_data_df.apply(lambda row: change_art_relationship(row), axis=1)\n",
    "personal_data_df['Visit museums'] = personal_data_df.apply(lambda row: change_visit_museums(row), axis=1)"
   ]
  },
  {
   "cell_type": "code",
   "execution_count": 9,
   "id": "22523fdd",
   "metadata": {},
   "outputs": [],
   "source": [
    "# Almacenamos estos datos en un fichero csv\n",
    "personal_data_df.to_csv('../../data/GAM/users.csv', index=False)"
   ]
  },
  {
   "cell_type": "code",
   "execution_count": null,
   "id": "186e7a9c",
   "metadata": {},
   "outputs": [],
   "source": []
  }
 ],
 "metadata": {
  "kernelspec": {
   "display_name": "Python 3 (ipykernel)",
   "language": "python",
   "name": "python3"
  },
  "language_info": {
   "codemirror_mode": {
    "name": "ipython",
    "version": 3
   },
   "file_extension": ".py",
   "mimetype": "text/x-python",
   "name": "python",
   "nbconvert_exporter": "python",
   "pygments_lexer": "ipython3",
   "version": "3.9.6"
  }
 },
 "nbformat": 4,
 "nbformat_minor": 5
}
