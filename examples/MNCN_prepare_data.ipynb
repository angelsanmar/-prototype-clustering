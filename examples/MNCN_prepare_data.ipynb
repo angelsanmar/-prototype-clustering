{
 "cells": [
  {
   "cell_type": "code",
   "execution_count": 1,
   "metadata": {},
   "outputs": [],
   "source": [
    "import pandas as pd\n",
    "import numpy as np\n",
    "import json"
   ]
  },
  {
   "cell_type": "markdown",
   "metadata": {},
   "source": [
    "# Preguntas Semana de la ciencia\n",
    "\n",
    "Estos datos corresponden a parejas de estudiantes. Sin embargo, en este dataset se tratará a cada pareja como un único usuario. Las respuestas están almacenadas en un fichero JSON que se encuentra en la carpeta `/data/MNCN`. \n",
    "\n",
    "Cada usuario ha respondido a las siguientes preguntas:\n",
    "\n",
    "**103** - Consumo responsable\n",
    "\n",
    "*Un consumo responsable de nuestros recursos ayuda a reducir la pérdida de biodiversidad, pero… ¿estamos dispuestos a hacer cambios en nuestro día a día?*\n",
    "*¿En qué estarías dispuesto a hacer un consumo más responsable? (elige máximo 3)*\n",
    "\n",
    "0. Reducir el tiempo de la ducha\n",
    "1. Comprar menos ropa\n",
    "2. No usar productos con muchos envases\n",
    "3. Ir a pie a más sitios\n",
    "4. Reducir los residuos que genero\n",
    "5. Reciclar de forma correcta\n",
    "\n",
    "**107** - Emisiones de CO2 y medios de transporte\n",
    "\n",
    "**A** - *Una de las causas del cambio climático es las emisiones de CO2.*\n",
    "*Para reducir estas emisiones podemos movernos de manera sostenible, yendo a los sitios andando, utilizando bicicletas o patinetes o utilizando el transporte público.*\n",
    "*¿Cómo vas normalmente al colegio?*\n",
    "\n",
    "0. En coche\n",
    "1. Andando\n",
    "2. En bicicleta\n",
    "3. En autobús\n",
    "4. En metro\n",
    "5. En patinete\n",
    "\n",
    "\n",
    "**B** - *¿Estarías dispuesto a cambiar el transporte e ir al colegio de una forma más sostenible?*\n",
    "\n",
    "0. Sí\n",
    "1. No\n",
    "2. Quizá\n",
    "\n",
    "**110** - *Quiz: Especies invasoras*\n",
    "\n",
    "**A** - *Las especies invasoras acuáticas eliminan a las autóctonas generando pérdida de biodiversidad.*\n",
    "*¿Has tenido alguna especie exótica como mascota? (cotorra argentinas, reptiles, aves, etc)*\n",
    "\n",
    "0. Sí\n",
    "1. No\n",
    "\n",
    "**B** - *Si pudieras adoptar a un animal, ¿cuál escogerías?*\n",
    "\n",
    "0. Tortuga de Florida\n",
    "1. Perro común\n",
    "2. Gato común\n",
    "3. Cotorra Argentina\n",
    "4. Cacatúa\n",
    "5. Mono Capuchino\n",
    "\n",
    "\n"
   ]
  },
  {
   "cell_type": "code",
   "execution_count": 2,
   "metadata": {},
   "outputs": [],
   "source": [
    "tests = [\n",
    "    {\n",
    "        'name': 'Colegio Arcangel',\n",
    "        'grade': '5 - Primaria',\n",
    "        'file': 'sesion_miercoles_11.json',\n",
    "    },\n",
    "    {\n",
    "        'name': 'Colegio Arcangel',\n",
    "        'grade': '6 - Primaria',\n",
    "        'file': 'sesion_miercoles_12.json',\n",
    "    },\n",
    "    {\n",
    "        'name': 'Colegio Nuestra Señora del Val',\n",
    "        'grade': '6 - Primaria',\n",
    "        'file': 'sesion_jueves_11.json',\n",
    "    },\n",
    "    {\n",
    "        'name': 'Colegio Nuestra Señora del Val',\n",
    "        'grade': '6 - Primaria',\n",
    "        'file': 'sesion_jueves_12.json',\n",
    "    },\n",
    "    {\n",
    "        'name': 'Colegio San francisco de Asis',\n",
    "        'grade': '2 - ESO',\n",
    "        'file': 'sesion_viernes_11.json',\n",
    "    },\n",
    "    {\n",
    "        'name': 'CEPA Aluche',\n",
    "        'grade': 'Adultos',\n",
    "        'file': 'sesion_viernes_12.json',\n",
    "    }\n",
    "]"
   ]
  },
  {
   "cell_type": "code",
   "execution_count": 3,
   "metadata": {},
   "outputs": [],
   "source": [
    "# Cabecera dataset\n",
    "head = ['UserId', 'School', 'Grade', 'Timestamp', 'q103', 'q107-A', 'q107-B', 'q110-A', 'q110-B']\n",
    "data = []\n"
   ]
  },
  {
   "cell_type": "code",
   "execution_count": 4,
   "metadata": {},
   "outputs": [],
   "source": [
    "PATH_DATA = '../data/MNCN/'\n",
    "rows = []\n",
    "\n",
    "for t in tests:\n",
    "    f = open(PATH_DATA + t['file'])\n",
    "\n",
    "    data = json.load(f)\n",
    "    \n",
    "\n",
    "    for d in data:\n",
    "        row = []\n",
    "        row.append(d['id'])\n",
    "        row.append(t['name'])\n",
    "        row.append(t['grade'])\n",
    "        row.append(d['serverTimestamp'])\n",
    "        row.append(d['value']['selectManyQuizesAnswers'][0])\n",
    "\n",
    "        if len(d['value']['selectManyQuizesAnswers'][1]) > 0:\n",
    "            row.append(d['value']['selectManyQuizesAnswers'][1][0])\n",
    "        else:\n",
    "            row.append('NaN')\n",
    "\n",
    "        if len(d['value']['selectManyQuizesAnswers'][2]) > 0:   \n",
    "            row.append(d['value']['selectManyQuizesAnswers'][2][0])\n",
    "        else:\n",
    "            row.append('NaN')\n",
    "\n",
    "        if len(d['value']['selectManyQuizesAnswers'][3]) > 0:\n",
    "            row.append(d['value']['selectManyQuizesAnswers'][3][0])\n",
    "        else:\n",
    "            row.append('NaN')\n",
    "\n",
    "        if len(d['value']['selectManyQuizesAnswers'][4]) > 0:\n",
    "            row.append(d['value']['selectManyQuizesAnswers'][4][0])\n",
    "        else:\n",
    "            row.append('NaN')\n",
    "\n",
    "        rows.append(row)"
   ]
  },
  {
   "cell_type": "code",
   "execution_count": 5,
   "metadata": {},
   "outputs": [],
   "source": [
    "mncn_df = pd.DataFrame(rows, columns=head)"
   ]
  },
  {
   "cell_type": "code",
   "execution_count": 6,
   "metadata": {},
   "outputs": [],
   "source": [
    "# Limpiamos el dataset\n",
    "mncn_df['q103'] = mncn_df['q103'].apply(lambda row: ';'.join(map(str, np.sort(row))))\n",
    "mncn_df = mncn_df[~(mncn_df['q107-A'] == 'NaN')]"
   ]
  },
  {
   "cell_type": "code",
   "execution_count": 7,
   "metadata": {},
   "outputs": [],
   "source": [
    "# Guardamos el dataset\n",
    "mncn_df.to_csv('../data/MNCN/semana_ciencia_2021.csv', index=False)"
   ]
  },
  {
   "cell_type": "code",
   "execution_count": 8,
   "metadata": {},
   "outputs": [],
   "source": [
    "# Preparamos los datos que usaremos en el clustering\n",
    "# El objeto que pasamos es un array de 1 y 0s dependiendo de las respuestas qua han contestado\n",
    "# Ejemplo [0, 1, 1, 0, 1, 0, ...]\n",
    "\n",
    "# Primera posición de las respuestas de cada pregunta\n",
    "init_pos_q103 = 0\n",
    "init_pos_q107a = 6\n",
    "init_pos_q107b = 12\n",
    "init_pos_q110a = 15\n",
    "init_pos_q110b = 17\n",
    "len_q = 23"
   ]
  },
  {
   "cell_type": "code",
   "execution_count": 9,
   "metadata": {},
   "outputs": [],
   "source": [
    "def get_responses_profile(row):\n",
    "    result = [row['UserId']]\n",
    "    prof = np.zeros(len_q)\n",
    "    \n",
    "    if row['q103'] != '':\n",
    "        if ';' in row['q103']:\n",
    "        \n",
    "            for r in row['q103'].split(';'):\n",
    "                prof[init_pos_q103 + int(r)] = 1\n",
    "\n",
    "        else:\n",
    "            prof[init_pos_q103 + int(row['q103'])] = 1\n",
    "\n",
    "    prof[init_pos_q107a + row['q107-A']] = 1\n",
    "    prof[init_pos_q107b + row['q107-B']] = 1\n",
    "    prof[init_pos_q110a + row['q110-A']] = 1\n",
    "    prof[init_pos_q110b + row['q110-B']] = 1\n",
    "\n",
    "    for p in prof:\n",
    "        result.append(p)\n",
    "\n",
    "    return pd.Series(result)"
   ]
  },
  {
   "cell_type": "code",
   "execution_count": 10,
   "metadata": {},
   "outputs": [],
   "source": [
    "profiles = mncn_df.apply(lambda row: get_responses_profile(row), axis=1)"
   ]
  },
  {
   "cell_type": "code",
   "execution_count": 19,
   "metadata": {},
   "outputs": [],
   "source": [
    "columns = ['UserId']\n",
    "columns.extend(['q103_' + str(i) for i in range(init_pos_q107a)])\n",
    "columns.extend(['q107a_' + str(i) for i in range(6)])\n",
    "columns.extend(['q107b_' + str(i) for i in range(3)])\n",
    "columns.extend(['q110a_' + str(i) for i in range(2)])\n",
    "columns.extend(['q110b_' + str(i) for i in range(6)])\n",
    "profiles.columns = columns"
   ]
  },
  {
   "cell_type": "code",
   "execution_count": 23,
   "metadata": {},
   "outputs": [],
   "source": [
    "mncn_profiles_df = pd.DataFrame(profiles)"
   ]
  },
  {
   "cell_type": "code",
   "execution_count": 24,
   "metadata": {},
   "outputs": [],
   "source": [
    "mncn_profiles_df.to_csv('../data/MNCN/user_profiles.csv', index=False)"
   ]
  }
 ],
 "metadata": {
  "interpreter": {
   "hash": "2eda911c1349e14150f3457c345dec4ef98915934f84fe9f41fb08d43d62ec7c"
  },
  "kernelspec": {
   "display_name": "Python 3.9.6 64-bit ('community-model': pyenv)",
   "language": "python",
   "name": "python3"
  },
  "language_info": {
   "codemirror_mode": {
    "name": "ipython",
    "version": 3
   },
   "file_extension": ".py",
   "mimetype": "text/x-python",
   "name": "python",
   "nbconvert_exporter": "python",
   "pygments_lexer": "ipython3",
   "version": "3.9.6"
  },
  "orig_nbformat": 4
 },
 "nbformat": 4,
 "nbformat_minor": 2
}
