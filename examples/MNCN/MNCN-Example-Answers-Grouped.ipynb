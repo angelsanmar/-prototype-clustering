{
 "cells": [
  {
   "cell_type": "code",
   "execution_count": 1,
   "id": "323d7022",
   "metadata": {},
   "outputs": [],
   "source": [
    "import pandas as pd\n",
    "import numpy as np\n",
    "\n",
    "import ipywidgets as widgets\n",
    "from ipywidgets import AppLayout\n",
    "import IPython.display as pyDis\n",
    "\n",
    "from context import community_module\n",
    "from community_module.community_detection.similarityCommunityDetection import SimilarityCommunityDetection\n",
    "from community_module.community_detection.explainedCommunitiesDetection import ExplainedCommunitiesDetection\n",
    "from community_module.visualization.gephiVisualization import GephiVisualization\n",
    "\n",
    "from sklearn.metrics.pairwise import cosine_similarity"
   ]
  },
  {
   "cell_type": "code",
   "execution_count": 2,
   "id": "058b9f98",
   "metadata": {},
   "outputs": [],
   "source": [
    "def transport_pollution_values(transport_polution):\n",
    "    if transport_polution == 'High':\n",
    "        return 2\n",
    "    elif transport_polution == 'Medium':\n",
    "        return 1\n",
    "    elif transport_polution == 'Low':\n",
    "        return 0\n",
    "    \n",
    "def transport_type_values(transport_type):\n",
    "    if transport_type == 'Private':\n",
    "        return 1\n",
    "    else:\n",
    "        return 0\n",
    "    \n",
    "def booleans_values(value):\n",
    "    if value:\n",
    "        return 1\n",
    "    else:\n",
    "        return 0"
   ]
  },
  {
   "cell_type": "code",
   "execution_count": 3,
   "id": "c7deef97",
   "metadata": {},
   "outputs": [],
   "source": [
    "# Load data and prepare information\n",
    "data_df = pd.read_csv('../../data/MNCN/user_profiles_grouped.csv')\n",
    "\n",
    "data_df['Transport Pollution'] = data_df['Transport Pollution'].apply(transport_pollution_values)\n",
    "data_df['Transport Type'] = data_df['Transport Type'].apply(transport_type_values)\n",
    "data_df['Reduce Consumption'] = data_df['Reduce Consumption'].apply(booleans_values)\n",
    "data_df['Change Transport'] = data_df['Change Transport'].apply(booleans_values)\n",
    "data_df['Recycle'] = data_df['Recycle'].apply(booleans_values)\n",
    "\n",
    "attributes = {\n",
    "    'Transport Pollution': ['Low (Walking, Bike)', 'Medium (Metro, Bus)', 'High (Car)'],\n",
    "    'Transport Type': ['Public (Bus, Metro)', 'Private (Car, Bike, ...)'],\n",
    "    'Reduce Consumption': ['No', 'Yes'],\n",
    "    'Change Transport': ['No', 'Yes'],\n",
    "    'Recycle': ['No', 'Yes']\n",
    "}\n",
    "\n",
    "data = None"
   ]
  },
  {
   "cell_type": "code",
   "execution_count": 4,
   "id": "cfe8f080",
   "metadata": {},
   "outputs": [],
   "source": [
    "def search_communities(data, percentage):\n",
    "    print('Percentage', percentage)\n",
    "    # Apply algorithm to detect communities\n",
    "    community_detection = ExplainedCommunitiesDetection(data, SimilarityCommunityDetection, 'cosine')\n",
    "    n_communties, users_communities = community_detection.search_all_communities(answer_binary=True, percentage=percentage)\n",
    "    \n",
    "    # Explain communities\n",
    "    users_without_community = []\n",
    "    for c in range(n_communties):\n",
    "        community_data = community_detection.get_community(c, percentage=percentage)\n",
    "        \n",
    "        if len(community_data['members']) > 1:\n",
    "        \n",
    "            print('---------------------')\n",
    "            print('COMMUNITY -', community_data['name'])\n",
    "            print('\\t- N. Members:', len(community_data['members']))\n",
    "            print('\\t- Properties:')\n",
    "\n",
    "            for k in community_data['properties'].keys():\n",
    "                print('\\t\\t-', k, community_data['properties'][k])\n",
    "        else:\n",
    "            users_without_community.extend(community_data['members'])\n",
    "            \n",
    "    print('---------------------')\n",
    "    print('N. USERS WITHOUT COMMUNITY -', len(users_without_community))\n",
    "    \n",
    "    # Incluimos la los datos las comunidades\n",
    "    data_df['community'] = users_communities.values()\n",
    "    \n",
    "    # Filtramos las comunidades con menos de 2 usuarios\n",
    "    filter_groups = data_df.groupby(by='community').count()['UserId'] < 2\n",
    "    groups_to_filter = filter_groups.index.values[filter_groups]\n",
    "    users_out = data_df[data_df['community'].isin(groups_to_filter)].index.values\n",
    "    \n",
    "    # Pintamos en Gephi\n",
    "    gv = GephiVisualization(workspace='mncn-2')\n",
    "    \n",
    "    # Preparamos los datos de usuarios y distancias\n",
    "    users = data_df[['UserId', 'School', 'Grade', 'Type', 'Zone', 'community']].values\n",
    "    data = data[~data.index.isin(users_out)]\n",
    "    distances = cosine_similarity(data)\n",
    "    \n",
    "    gv.load_community(users, distances, users_properties=['School', 'Grade', 'Type', 'Zone', 'community'])"
   ]
  },
  {
   "cell_type": "code",
   "execution_count": 5,
   "id": "d03c480f",
   "metadata": {},
   "outputs": [],
   "source": [
    "def btn_event(obj):\n",
    "    attrs = list()\n",
    "    \n",
    "    for at in questions_wid.value:\n",
    "        attrs.append(at)\n",
    "        \n",
    "    # Filtramos el dataset\n",
    "    data = data_df[attrs]\n",
    "    \n",
    "    percentage = percentage_wid.value\n",
    "    search_communities(data, percentage)"
   ]
  },
  {
   "cell_type": "code",
   "execution_count": 6,
   "id": "99066afd",
   "metadata": {},
   "outputs": [
    {
     "data": {
      "application/vnd.jupyter.widget-view+json": {
       "model_id": "7ad371cbc9df4b658c0682f54bede561",
       "version_major": 2,
       "version_minor": 0
      },
      "text/plain": [
       "AppLayout(children=(Button(description='Search', layout=Layout(grid_area='footer'), style=ButtonStyle()), Sele…"
      ]
     },
     "metadata": {},
     "output_type": "display_data"
    },
    {
     "name": "stdout",
     "output_type": "stream",
     "text": [
      "Percentage 0.9\n",
      "---------------------\n",
      "COMMUNITY - 0\n",
      "\t- N. Members: 59\n",
      "\t- Properties:\n",
      "\t\t- Reduce Consumption 1\n",
      "---------------------\n",
      "COMMUNITY - 1\n",
      "\t- N. Members: 2\n",
      "\t- Properties:\n",
      "\t\t- Transport Pollution 0\n",
      "\t\t- Transport Type 1\n",
      "\t\t- Reduce Consumption 0\n",
      "\t\t- Change Transport 0\n",
      "\t\t- Recycle 0\n",
      "---------------------\n",
      "N. USERS WITHOUT COMMUNITY - 0\n"
     ]
    },
    {
     "ename": "ConnectionRefusedError",
     "evalue": "[Errno 61] Connection refused",
     "output_type": "error",
     "traceback": [
      "\u001b[0;31m---------------------------------------------------------------------------\u001b[0m",
      "\u001b[0;31mConnectionRefusedError\u001b[0m                    Traceback (most recent call last)",
      "\u001b[0;32m/var/folders/w3/2gk573bs0lqdsfdmcky6vn0h0000gn/T/ipykernel_6174/4201814218.py\u001b[0m in \u001b[0;36mbtn_event\u001b[0;34m(obj)\u001b[0m\n\u001b[1;32m      9\u001b[0m \u001b[0;34m\u001b[0m\u001b[0m\n\u001b[1;32m     10\u001b[0m     \u001b[0mpercentage\u001b[0m \u001b[0;34m=\u001b[0m \u001b[0mpercentage_wid\u001b[0m\u001b[0;34m.\u001b[0m\u001b[0mvalue\u001b[0m\u001b[0;34m\u001b[0m\u001b[0;34m\u001b[0m\u001b[0m\n\u001b[0;32m---> 11\u001b[0;31m     \u001b[0msearch_communities\u001b[0m\u001b[0;34m(\u001b[0m\u001b[0mdata\u001b[0m\u001b[0;34m,\u001b[0m \u001b[0mpercentage\u001b[0m\u001b[0;34m)\u001b[0m\u001b[0;34m\u001b[0m\u001b[0;34m\u001b[0m\u001b[0m\n\u001b[0m",
      "\u001b[0;32m/var/folders/w3/2gk573bs0lqdsfdmcky6vn0h0000gn/T/ipykernel_6174/766835066.py\u001b[0m in \u001b[0;36msearch_communities\u001b[0;34m(data, percentage)\u001b[0m\n\u001b[1;32m     34\u001b[0m \u001b[0;34m\u001b[0m\u001b[0m\n\u001b[1;32m     35\u001b[0m     \u001b[0;31m# Pintamos en Gephi\u001b[0m\u001b[0;34m\u001b[0m\u001b[0;34m\u001b[0m\u001b[0;34m\u001b[0m\u001b[0m\n\u001b[0;32m---> 36\u001b[0;31m     \u001b[0mgv\u001b[0m \u001b[0;34m=\u001b[0m \u001b[0mGephiVisualization\u001b[0m\u001b[0;34m(\u001b[0m\u001b[0mworkspace\u001b[0m\u001b[0;34m=\u001b[0m\u001b[0;34m'mncn-2'\u001b[0m\u001b[0;34m)\u001b[0m\u001b[0;34m\u001b[0m\u001b[0;34m\u001b[0m\u001b[0m\n\u001b[0m\u001b[1;32m     37\u001b[0m \u001b[0;34m\u001b[0m\u001b[0m\n\u001b[1;32m     38\u001b[0m     \u001b[0;31m# Preparamos los datos de usuarios y distancias\u001b[0m\u001b[0;34m\u001b[0m\u001b[0;34m\u001b[0m\u001b[0;34m\u001b[0m\u001b[0m\n",
      "\u001b[0;32m~/Documents/Investigacion/2021/CommunityModuleClean/community_module/visualization/gephiVisualization.py\u001b[0m in \u001b[0;36m__init__\u001b[0;34m(self, hostname, port, workspace)\u001b[0m\n\u001b[1;32m      4\u001b[0m \u001b[0;34m\u001b[0m\u001b[0m\n\u001b[1;32m      5\u001b[0m     \u001b[0;32mdef\u001b[0m \u001b[0m__init__\u001b[0m\u001b[0;34m(\u001b[0m\u001b[0mself\u001b[0m\u001b[0;34m,\u001b[0m \u001b[0mhostname\u001b[0m\u001b[0;34m=\u001b[0m\u001b[0;34m'localhost'\u001b[0m\u001b[0;34m,\u001b[0m \u001b[0mport\u001b[0m\u001b[0;34m=\u001b[0m\u001b[0;36m8080\u001b[0m\u001b[0;34m,\u001b[0m \u001b[0mworkspace\u001b[0m\u001b[0;34m=\u001b[0m\u001b[0;34m'workspace0'\u001b[0m\u001b[0;34m)\u001b[0m\u001b[0;34m:\u001b[0m\u001b[0;34m\u001b[0m\u001b[0;34m\u001b[0m\u001b[0m\n\u001b[0;32m----> 6\u001b[0;31m         \u001b[0mself\u001b[0m\u001b[0;34m.\u001b[0m\u001b[0mstream\u001b[0m \u001b[0;34m=\u001b[0m \u001b[0mstreamer\u001b[0m\u001b[0;34m.\u001b[0m\u001b[0mStreamer\u001b[0m\u001b[0;34m(\u001b[0m\u001b[0mstreamer\u001b[0m\u001b[0;34m.\u001b[0m\u001b[0mGephiWS\u001b[0m\u001b[0;34m(\u001b[0m\u001b[0mhostname\u001b[0m\u001b[0;34m=\u001b[0m\u001b[0mhostname\u001b[0m\u001b[0;34m,\u001b[0m \u001b[0mport\u001b[0m\u001b[0;34m=\u001b[0m\u001b[0mport\u001b[0m\u001b[0;34m,\u001b[0m \u001b[0mworkspace\u001b[0m\u001b[0;34m=\u001b[0m\u001b[0mworkspace\u001b[0m\u001b[0;34m)\u001b[0m\u001b[0;34m)\u001b[0m\u001b[0;34m\u001b[0m\u001b[0;34m\u001b[0m\u001b[0m\n\u001b[0m\u001b[1;32m      7\u001b[0m \u001b[0;34m\u001b[0m\u001b[0m\n\u001b[1;32m      8\u001b[0m     \u001b[0;32mdef\u001b[0m \u001b[0mload_community\u001b[0m\u001b[0;34m(\u001b[0m\u001b[0mself\u001b[0m\u001b[0;34m,\u001b[0m \u001b[0musers\u001b[0m\u001b[0;34m,\u001b[0m \u001b[0mdistances\u001b[0m\u001b[0;34m,\u001b[0m \u001b[0musers_properties\u001b[0m\u001b[0;34m)\u001b[0m\u001b[0;34m:\u001b[0m\u001b[0;34m\u001b[0m\u001b[0;34m\u001b[0m\u001b[0m\n",
      "\u001b[0;32m~/.pyenv/versions/3.9.6/envs/community-model/lib/python3.9/site-packages/gephistreamer/streamer.py\u001b[0m in \u001b[0;36m__init__\u001b[0;34m(self, hostname, port, workspace)\u001b[0m\n\u001b[1;32m    113\u001b[0m         \u001b[0mself\u001b[0m\u001b[0;34m.\u001b[0m\u001b[0mworkspace\u001b[0m \u001b[0;34m=\u001b[0m \u001b[0mworkspace\u001b[0m\u001b[0;34m\u001b[0m\u001b[0;34m\u001b[0m\u001b[0m\n\u001b[1;32m    114\u001b[0m         \u001b[0mself\u001b[0m\u001b[0;34m.\u001b[0m\u001b[0mwebsocket\u001b[0m \u001b[0;34m=\u001b[0m \u001b[0mself\u001b[0m\u001b[0;34m.\u001b[0m\u001b[0mClient\u001b[0m\u001b[0;34m(\u001b[0m\u001b[0mself\u001b[0m\u001b[0;34m.\u001b[0m\u001b[0m_generate_url\u001b[0m\u001b[0;34m(\u001b[0m\u001b[0;34m)\u001b[0m\u001b[0;34m)\u001b[0m\u001b[0;34m\u001b[0m\u001b[0;34m\u001b[0m\u001b[0m\n\u001b[0;32m--> 115\u001b[0;31m         \u001b[0mself\u001b[0m\u001b[0;34m.\u001b[0m\u001b[0mwebsocket\u001b[0m\u001b[0;34m.\u001b[0m\u001b[0mconnect\u001b[0m\u001b[0;34m(\u001b[0m\u001b[0;34m)\u001b[0m\u001b[0;34m\u001b[0m\u001b[0;34m\u001b[0m\u001b[0m\n\u001b[0m\u001b[1;32m    116\u001b[0m     \u001b[0;32mdef\u001b[0m \u001b[0m_generate_url\u001b[0m\u001b[0;34m(\u001b[0m\u001b[0mself\u001b[0m\u001b[0;34m)\u001b[0m\u001b[0;34m:\u001b[0m\u001b[0;34m\u001b[0m\u001b[0;34m\u001b[0m\u001b[0m\n\u001b[1;32m    117\u001b[0m         return \"ws://{hostname}:{port}/{workspace}?operation=updateGraph\".format(hostname=self.hostname,\n",
      "\u001b[0;32m~/.pyenv/versions/3.9.6/envs/community-model/lib/python3.9/site-packages/ws4py/client/__init__.py\u001b[0m in \u001b[0;36mconnect\u001b[0;34m(self)\u001b[0m\n\u001b[1;32m    215\u001b[0m             \u001b[0mself\u001b[0m\u001b[0;34m.\u001b[0m\u001b[0m_is_secure\u001b[0m \u001b[0;34m=\u001b[0m \u001b[0;32mTrue\u001b[0m\u001b[0;34m\u001b[0m\u001b[0;34m\u001b[0m\u001b[0m\n\u001b[1;32m    216\u001b[0m \u001b[0;34m\u001b[0m\u001b[0m\n\u001b[0;32m--> 217\u001b[0;31m         \u001b[0mself\u001b[0m\u001b[0;34m.\u001b[0m\u001b[0msock\u001b[0m\u001b[0;34m.\u001b[0m\u001b[0mconnect\u001b[0m\u001b[0;34m(\u001b[0m\u001b[0mself\u001b[0m\u001b[0;34m.\u001b[0m\u001b[0mbind_addr\u001b[0m\u001b[0;34m)\u001b[0m\u001b[0;34m\u001b[0m\u001b[0;34m\u001b[0m\u001b[0m\n\u001b[0m\u001b[1;32m    218\u001b[0m \u001b[0;34m\u001b[0m\u001b[0m\n\u001b[1;32m    219\u001b[0m         \u001b[0mself\u001b[0m\u001b[0;34m.\u001b[0m\u001b[0m_write\u001b[0m\u001b[0;34m(\u001b[0m\u001b[0mself\u001b[0m\u001b[0;34m.\u001b[0m\u001b[0mhandshake_request\u001b[0m\u001b[0;34m)\u001b[0m\u001b[0;34m\u001b[0m\u001b[0;34m\u001b[0m\u001b[0m\n",
      "\u001b[0;31mConnectionRefusedError\u001b[0m: [Errno 61] Connection refused"
     ]
    }
   ],
   "source": [
    "# Preparo la interfaz\n",
    "questions_wid = widgets.SelectMultiple(\n",
    "    options=list(attributes.keys()),\n",
    "    descriptions='Select attributes',\n",
    "    disable=False\n",
    ")\n",
    "\n",
    "percentage_wid = widgets.FloatSlider(\n",
    "    value=1.0,\n",
    "    min=0.0,\n",
    "    max=1.0,\n",
    "    step=0.01,\n",
    "    description='Min % common answers'\n",
    ")\n",
    "\n",
    "button = widgets.Button(\n",
    "    description = 'Search'\n",
    ")\n",
    "\n",
    "button.on_click(btn_event)\n",
    "AppLayout(hader=None, left_sidebar=questions_wid, center=None, right_sidebar=percentage_wid, footer=button)"
   ]
  },
  {
   "cell_type": "code",
   "execution_count": null,
   "id": "ee787887",
   "metadata": {},
   "outputs": [],
   "source": []
  }
 ],
 "metadata": {
  "kernelspec": {
   "display_name": "Python 3 (ipykernel)",
   "language": "python",
   "name": "python3"
  },
  "language_info": {
   "codemirror_mode": {
    "name": "ipython",
    "version": 3
   },
   "file_extension": ".py",
   "mimetype": "text/x-python",
   "name": "python",
   "nbconvert_exporter": "python",
   "pygments_lexer": "ipython3",
   "version": "3.9.6"
  }
 },
 "nbformat": 4,
 "nbformat_minor": 5
}
