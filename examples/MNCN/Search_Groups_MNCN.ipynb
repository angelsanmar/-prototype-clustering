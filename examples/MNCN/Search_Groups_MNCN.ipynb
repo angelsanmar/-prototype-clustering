{
 "cells": [
  {
   "cell_type": "code",
   "execution_count": 1,
   "id": "ac83970f",
   "metadata": {},
   "outputs": [],
   "source": [
    "import pandas as pd\n",
    "import numpy as np\n",
    "from itertools import chain\n",
    "\n",
    "from context import community_module\n",
    "from community_module.community_detection.similarityCommunityDetection import SimilarityCommunityDetection\n",
    "from community_module.similarity.emotionSimilarity import EmotionSimilarity"
   ]
  },
  {
   "cell_type": "code",
   "execution_count": 2,
   "id": "3b325a7b",
   "metadata": {},
   "outputs": [],
   "source": [
    "# Leemos los ficheros de respuestas de usuarios\n",
    "users_df = pd.read_csv('../../data/MNCN/user_profiles.csv')\n",
    "\n",
    "# Datos necesarios para los filtros\n",
    "q103_index = list(range(1,7))\n",
    "q107a_index = list(range(7, 13))\n",
    "q107b_index = list(range(13, 16))\n",
    "q110a_index = list(range(16, 18))\n",
    "q110b_index = list(range(18, len(users_df.columns)))\n",
    "\n",
    "# Diccionario de respuestas\n",
    "answers = {\n",
    "    'q103_0': 'Reducir el tiempo de la ducha',\n",
    "    'q103_1': 'Comprar menos ropa',\n",
    "    'q103_2': 'No usar productos con muchos envases',\n",
    "    'q103_3': 'Ir a pie a más sitios',\n",
    "    'q103_4': 'Reducir los residuos que genero',\n",
    "    'q103_5': 'Reciclar de forma correcta',\n",
    "    'q107a_0': 'En coche',\n",
    "    'q107a_1': 'Andando',\n",
    "    'q107a_2': 'En bicicleta',\n",
    "    'q107a_3': 'En autobús',\n",
    "    'q107a_4': 'En metro',\n",
    "    'q107a_5': 'En patinete',\n",
    "    'q107b_0': 'Estaría dispuesto a cambiar de medio de transporte',\n",
    "    'q107b_1': 'No estaría dispuesto a cambiar de medio de transporte',\n",
    "    'q107b_2': 'Quizá estaría dispuesto a cambiar de medio de transporte',\n",
    "    'q110a_0': 'Si he tenido una mascota exótica',\n",
    "    'q110a_1': 'No he tenido una mascota exótica',\n",
    "    'q110b_0': 'Adoptaria una totuga de florida',\n",
    "    'q110b_1': 'Adoptaria un perro común',\n",
    "    'q110b_2': 'Adoptaria un gato común',\n",
    "    'q110b_3': 'Adoptaria una cotorra argentina',\n",
    "    'q110b_4': 'Adoptaria una cacatúa',\n",
    "    'q110b_5': 'Adoptaria un mono capuchino',\n",
    "}\n",
    "\n",
    "# Funcion de similitud y n clusters a detectar\n",
    "sim = 'cosine'"
   ]
  },
  {
   "cell_type": "code",
   "execution_count": 3,
   "id": "df20e9a3",
   "metadata": {},
   "outputs": [],
   "source": [
    "def search_groups(data, indexes, percentage=1):\n",
    "    # Comprobamos que no hay algún usuario que solo contenga ceros\n",
    "    correct_data = data[data.apply(lambda x: x.values.sum() != 0, axis=1)]\n",
    "\n",
    "    n_clusters = 2\n",
    "    finish_search = False\n",
    "\n",
    "    while not finish_search:\n",
    "\n",
    "        #print(\"Clusters:\", n_clusters)\n",
    "\n",
    "        community_detection = SimilarityCommunityDetection(correct_data)\n",
    "        result = community_detection.calculate_communities(metric=sim, n_clusters=n_clusters)\n",
    "\n",
    "        correct_data['group'] = result.values()\n",
    "\n",
    "        # Comprobamos que para cada grupo tenemos al menos, una respuesta común\n",
    "        answers_per_group_df = correct_data.groupby(by='group').sum().reset_index()\n",
    "        max_answers_per_group = answers_per_group_df.apply(lambda x: np.max(x[1:].values), axis=1).values\n",
    "\n",
    "        #print(\"Max answers:\", max_answers_per_group.values)\n",
    "\n",
    "        members_per_group = correct_data.groupby(by='group').count().iloc[:,0].values\n",
    "        min_same_answers_per_group = np.round(members_per_group * percentage)\n",
    "        \n",
    "        print(\"Max common answers:\", max_answers_per_group)\n",
    "        print(\"Size of X% of group:\" ,min_same_answers_per_group)\n",
    "\n",
    "        finish_search = np.greater_equal(max_answers_per_group, min_same_answers_per_group).sum() == len(members_per_group)\n",
    "\n",
    "        if not finish_search:\n",
    "            n_clusters += 1\n",
    "\n",
    "    # Genero un DF para extraer las explicaciones de los grupos\n",
    "    groups_to_explain_df = correct_data.groupby(by='group').sum().reset_index()\n",
    "    groups_to_explain_df['members'] = members_per_group\n",
    "\n",
    "    # Genero la tabla de usuario/grupo\n",
    "    result_df = pd.DataFrame.from_dict(result, orient='index', columns=['group'])\n",
    "    users_group = users_df.join(result_df)\n",
    "    \n",
    "    return groups_to_explain_df, users_group"
   ]
  },
  {
   "cell_type": "code",
   "execution_count": 4,
   "id": "09d8eff0",
   "metadata": {},
   "outputs": [],
   "source": [
    "def explain_groups(groups_to_explain_df):\n",
    "    for i in range(len(groups_to_explain_df)):\n",
    "\n",
    "        row = groups_to_explain_df.iloc[i]\n",
    "        max_value = row[1:-1].max()\n",
    "\n",
    "        row_ans = row[1:-1]\n",
    "        row_ans = row_ans[row_ans == max_value]\n",
    "\n",
    "        print(\"-----------\")\n",
    "        print(\"## GROUP\", i)\n",
    "        print(\"# N. MEMBERS:\", int(groups_to_explain_df.iloc[i]['members']))\n",
    "        print(\"# COMMON ANS:\")\n",
    "\n",
    "        for i in row_ans.index:\n",
    "            print(\"  -\", answers[i])"
   ]
  },
  {
   "cell_type": "markdown",
   "id": "ee7ffbc5",
   "metadata": {},
   "source": [
    "## Buscamos grupos usando únicamente q103"
   ]
  },
  {
   "cell_type": "code",
   "execution_count": 5,
   "id": "694aace8",
   "metadata": {},
   "outputs": [],
   "source": [
    "# Paso 1: Definimos los datos a usar para detectar usuarios\n",
    "indexes = chain(q103_index) # Se pueden combinar\n",
    "data = users_df.iloc[:,indexes]"
   ]
  },
  {
   "cell_type": "code",
   "execution_count": 6,
   "id": "16e9082b",
   "metadata": {},
   "outputs": [
    {
     "name": "stdout",
     "output_type": "stream",
     "text": [
      "Max common answers: [43.  1.]\n",
      "Size of X% of group: [58  1]\n",
      "Max common answers: [43.  1.  3.]\n",
      "Size of X% of group: [55  1  3]\n",
      "Max common answers: [ 5. 38.  5.  3.]\n",
      "Size of X% of group: [ 5 45  5  4]\n",
      "Max common answers: [ 2. 38.  1.  7.  2.]\n",
      "Size of X% of group: [ 2 45  1  9  2]\n",
      "Max common answers: [16. 17. 12.  1.  1.  9.]\n",
      "Size of X% of group: [16 17 12  1  1 12]\n",
      "Max common answers: [12. 12. 10.  4.  6. 10.  1.]\n",
      "Size of X% of group: [12 12 14  4  6 10  1]\n",
      "Max common answers: [21.  4.  5. 10.  1. 12.  3.  1.]\n",
      "Size of X% of group: [23  4  5 10  1 12  3  1]\n",
      "Max common answers: [ 7.  2. 29.  1.  1.  4. 10.  1.  1.]\n",
      "Size of X% of group: [ 7  2 32  1  1  4 10  1  1]\n",
      "Max common answers: [ 2. 12. 12. 17.  6.  1.  2.  2.  3.  1.]\n",
      "Size of X% of group: [ 2 12 12 18  6  1  2  2  3  1]\n",
      "Max common answers: [ 2.  5. 12. 14. 10.  1.  1.  1. 10.  1.  1.]\n",
      "Size of X% of group: [ 2  5 12 15 10  1  1  1 10  1  1]\n",
      "Max common answers: [12.  2. 11.  2.  6. 12.  3.  1.  4.  1.  1.  1.]\n",
      "Size of X% of group: [15  2 11  2  6 12  3  1  4  1  1  1]\n",
      "Max common answers: [19. 10.  6.  2.  2. 10.  1.  1.  1.  1.  1.  1.  3.]\n",
      "Size of X% of group: [20 10  6  2  2 10  1  1  1  1  1  1  3]\n",
      "Max common answers: [ 6.  2. 10. 12.  6.  4.  1.  1.  1. 10.  2.  1.  1.  1.]\n",
      "Size of X% of group: [ 7  2 10 12  6  4  1  1  1 10  2  1  1  1]\n",
      "Max common answers: [ 3.  6.  2. 12. 10.  1.  2.  1.  2.  3.  4.  1.  1.  1. 10.]\n",
      "Size of X% of group: [ 3  6  2 12 10  1  2  1  2  3  4  1  1  1 10]\n"
     ]
    },
    {
     "name": "stderr",
     "output_type": "stream",
     "text": [
      "/Users/jljorro/.pyenv/versions/3.9.6/envs/community-model/lib/python3.9/site-packages/pandas/core/frame.py:3607: SettingWithCopyWarning: \n",
      "A value is trying to be set on a copy of a slice from a DataFrame.\n",
      "Try using .loc[row_indexer,col_indexer] = value instead\n",
      "\n",
      "See the caveats in the documentation: https://pandas.pydata.org/pandas-docs/stable/user_guide/indexing.html#returning-a-view-versus-a-copy\n",
      "  self._set_item(key, value)\n",
      "/Users/jljorro/.pyenv/versions/3.9.6/envs/community-model/lib/python3.9/site-packages/pandas/core/frame.py:3607: SettingWithCopyWarning: \n",
      "A value is trying to be set on a copy of a slice from a DataFrame.\n",
      "Try using .loc[row_indexer,col_indexer] = value instead\n",
      "\n",
      "See the caveats in the documentation: https://pandas.pydata.org/pandas-docs/stable/user_guide/indexing.html#returning-a-view-versus-a-copy\n",
      "  self._set_item(key, value)\n",
      "/Users/jljorro/.pyenv/versions/3.9.6/envs/community-model/lib/python3.9/site-packages/pandas/core/frame.py:3607: SettingWithCopyWarning: \n",
      "A value is trying to be set on a copy of a slice from a DataFrame.\n",
      "Try using .loc[row_indexer,col_indexer] = value instead\n",
      "\n",
      "See the caveats in the documentation: https://pandas.pydata.org/pandas-docs/stable/user_guide/indexing.html#returning-a-view-versus-a-copy\n",
      "  self._set_item(key, value)\n",
      "/Users/jljorro/.pyenv/versions/3.9.6/envs/community-model/lib/python3.9/site-packages/pandas/core/frame.py:3607: SettingWithCopyWarning: \n",
      "A value is trying to be set on a copy of a slice from a DataFrame.\n",
      "Try using .loc[row_indexer,col_indexer] = value instead\n",
      "\n",
      "See the caveats in the documentation: https://pandas.pydata.org/pandas-docs/stable/user_guide/indexing.html#returning-a-view-versus-a-copy\n",
      "  self._set_item(key, value)\n",
      "/Users/jljorro/.pyenv/versions/3.9.6/envs/community-model/lib/python3.9/site-packages/pandas/core/frame.py:3607: SettingWithCopyWarning: \n",
      "A value is trying to be set on a copy of a slice from a DataFrame.\n",
      "Try using .loc[row_indexer,col_indexer] = value instead\n",
      "\n",
      "See the caveats in the documentation: https://pandas.pydata.org/pandas-docs/stable/user_guide/indexing.html#returning-a-view-versus-a-copy\n",
      "  self._set_item(key, value)\n",
      "/Users/jljorro/.pyenv/versions/3.9.6/envs/community-model/lib/python3.9/site-packages/pandas/core/frame.py:3607: SettingWithCopyWarning: \n",
      "A value is trying to be set on a copy of a slice from a DataFrame.\n",
      "Try using .loc[row_indexer,col_indexer] = value instead\n",
      "\n",
      "See the caveats in the documentation: https://pandas.pydata.org/pandas-docs/stable/user_guide/indexing.html#returning-a-view-versus-a-copy\n",
      "  self._set_item(key, value)\n",
      "/Users/jljorro/.pyenv/versions/3.9.6/envs/community-model/lib/python3.9/site-packages/pandas/core/frame.py:3607: SettingWithCopyWarning: \n",
      "A value is trying to be set on a copy of a slice from a DataFrame.\n",
      "Try using .loc[row_indexer,col_indexer] = value instead\n",
      "\n",
      "See the caveats in the documentation: https://pandas.pydata.org/pandas-docs/stable/user_guide/indexing.html#returning-a-view-versus-a-copy\n",
      "  self._set_item(key, value)\n",
      "/Users/jljorro/.pyenv/versions/3.9.6/envs/community-model/lib/python3.9/site-packages/pandas/core/frame.py:3607: SettingWithCopyWarning: \n",
      "A value is trying to be set on a copy of a slice from a DataFrame.\n",
      "Try using .loc[row_indexer,col_indexer] = value instead\n",
      "\n",
      "See the caveats in the documentation: https://pandas.pydata.org/pandas-docs/stable/user_guide/indexing.html#returning-a-view-versus-a-copy\n",
      "  self._set_item(key, value)\n",
      "/Users/jljorro/.pyenv/versions/3.9.6/envs/community-model/lib/python3.9/site-packages/pandas/core/frame.py:3607: SettingWithCopyWarning: \n",
      "A value is trying to be set on a copy of a slice from a DataFrame.\n",
      "Try using .loc[row_indexer,col_indexer] = value instead\n",
      "\n",
      "See the caveats in the documentation: https://pandas.pydata.org/pandas-docs/stable/user_guide/indexing.html#returning-a-view-versus-a-copy\n",
      "  self._set_item(key, value)\n",
      "/Users/jljorro/.pyenv/versions/3.9.6/envs/community-model/lib/python3.9/site-packages/pandas/core/frame.py:3607: SettingWithCopyWarning: \n",
      "A value is trying to be set on a copy of a slice from a DataFrame.\n",
      "Try using .loc[row_indexer,col_indexer] = value instead\n",
      "\n",
      "See the caveats in the documentation: https://pandas.pydata.org/pandas-docs/stable/user_guide/indexing.html#returning-a-view-versus-a-copy\n",
      "  self._set_item(key, value)\n",
      "/Users/jljorro/.pyenv/versions/3.9.6/envs/community-model/lib/python3.9/site-packages/pandas/core/frame.py:3607: SettingWithCopyWarning: \n",
      "A value is trying to be set on a copy of a slice from a DataFrame.\n",
      "Try using .loc[row_indexer,col_indexer] = value instead\n",
      "\n",
      "See the caveats in the documentation: https://pandas.pydata.org/pandas-docs/stable/user_guide/indexing.html#returning-a-view-versus-a-copy\n",
      "  self._set_item(key, value)\n",
      "/Users/jljorro/.pyenv/versions/3.9.6/envs/community-model/lib/python3.9/site-packages/pandas/core/frame.py:3607: SettingWithCopyWarning: \n",
      "A value is trying to be set on a copy of a slice from a DataFrame.\n",
      "Try using .loc[row_indexer,col_indexer] = value instead\n",
      "\n",
      "See the caveats in the documentation: https://pandas.pydata.org/pandas-docs/stable/user_guide/indexing.html#returning-a-view-versus-a-copy\n",
      "  self._set_item(key, value)\n",
      "/Users/jljorro/.pyenv/versions/3.9.6/envs/community-model/lib/python3.9/site-packages/pandas/core/frame.py:3607: SettingWithCopyWarning: \n",
      "A value is trying to be set on a copy of a slice from a DataFrame.\n",
      "Try using .loc[row_indexer,col_indexer] = value instead\n",
      "\n",
      "See the caveats in the documentation: https://pandas.pydata.org/pandas-docs/stable/user_guide/indexing.html#returning-a-view-versus-a-copy\n",
      "  self._set_item(key, value)\n",
      "/Users/jljorro/.pyenv/versions/3.9.6/envs/community-model/lib/python3.9/site-packages/pandas/core/frame.py:3607: SettingWithCopyWarning: \n",
      "A value is trying to be set on a copy of a slice from a DataFrame.\n",
      "Try using .loc[row_indexer,col_indexer] = value instead\n",
      "\n",
      "See the caveats in the documentation: https://pandas.pydata.org/pandas-docs/stable/user_guide/indexing.html#returning-a-view-versus-a-copy\n",
      "  self._set_item(key, value)\n"
     ]
    }
   ],
   "source": [
    "groups_to_explain_df, users_groups_df = search_groups(data, indexes)"
   ]
  },
  {
   "cell_type": "code",
   "execution_count": 7,
   "id": "b57e706a",
   "metadata": {},
   "outputs": [
    {
     "name": "stdout",
     "output_type": "stream",
     "text": [
      "-----------\n",
      "## GROUP 0\n",
      "# N. MEMBERS: 3\n",
      "# COMMON ANS:\n",
      "  - Comprar menos ropa\n",
      "-----------\n",
      "## GROUP 1\n",
      "# N. MEMBERS: 6\n",
      "# COMMON ANS:\n",
      "  - Reducir el tiempo de la ducha\n",
      "  - No usar productos con muchos envases\n",
      "  - Ir a pie a más sitios\n",
      "-----------\n",
      "## GROUP 2\n",
      "# N. MEMBERS: 2\n",
      "# COMMON ANS:\n",
      "  - Reciclar de forma correcta\n",
      "-----------\n",
      "## GROUP 3\n",
      "# N. MEMBERS: 12\n",
      "# COMMON ANS:\n",
      "  - Reducir el tiempo de la ducha\n",
      "  - No usar productos con muchos envases\n",
      "  - Reciclar de forma correcta\n",
      "-----------\n",
      "## GROUP 4\n",
      "# N. MEMBERS: 10\n",
      "# COMMON ANS:\n",
      "  - Reducir el tiempo de la ducha\n",
      "  - Ir a pie a más sitios\n",
      "  - Reciclar de forma correcta\n",
      "-----------\n",
      "## GROUP 5\n",
      "# N. MEMBERS: 1\n",
      "# COMMON ANS:\n",
      "  - Ir a pie a más sitios\n",
      "  - Reciclar de forma correcta\n",
      "-----------\n",
      "## GROUP 6\n",
      "# N. MEMBERS: 2\n",
      "# COMMON ANS:\n",
      "  - Reducir el tiempo de la ducha\n",
      "  - Comprar menos ropa\n",
      "  - Ir a pie a más sitios\n",
      "-----------\n",
      "## GROUP 7\n",
      "# N. MEMBERS: 1\n",
      "# COMMON ANS:\n",
      "  - No usar productos con muchos envases\n",
      "  - Ir a pie a más sitios\n",
      "-----------\n",
      "## GROUP 8\n",
      "# N. MEMBERS: 2\n",
      "# COMMON ANS:\n",
      "  - Reducir el tiempo de la ducha\n",
      "  - Reducir los residuos que genero\n",
      "  - Reciclar de forma correcta\n",
      "-----------\n",
      "## GROUP 9\n",
      "# N. MEMBERS: 3\n",
      "# COMMON ANS:\n",
      "  - Reducir el tiempo de la ducha\n",
      "  - Ir a pie a más sitios\n",
      "  - Reducir los residuos que genero\n",
      "-----------\n",
      "## GROUP 10\n",
      "# N. MEMBERS: 4\n",
      "# COMMON ANS:\n",
      "  - No usar productos con muchos envases\n",
      "  - Reducir los residuos que genero\n",
      "  - Reciclar de forma correcta\n",
      "-----------\n",
      "## GROUP 11\n",
      "# N. MEMBERS: 1\n",
      "# COMMON ANS:\n",
      "  - Reducir el tiempo de la ducha\n",
      "  - No usar productos con muchos envases\n",
      "  - Reducir los residuos que genero\n",
      "-----------\n",
      "## GROUP 12\n",
      "# N. MEMBERS: 1\n",
      "# COMMON ANS:\n",
      "  - Reducir el tiempo de la ducha\n",
      "  - Comprar menos ropa\n",
      "  - No usar productos con muchos envases\n",
      "-----------\n",
      "## GROUP 13\n",
      "# N. MEMBERS: 1\n",
      "# COMMON ANS:\n",
      "  - Ir a pie a más sitios\n",
      "  - Reducir los residuos que genero\n",
      "  - Reciclar de forma correcta\n",
      "-----------\n",
      "## GROUP 14\n",
      "# N. MEMBERS: 10\n",
      "# COMMON ANS:\n",
      "  - No usar productos con muchos envases\n",
      "  - Ir a pie a más sitios\n",
      "  - Reciclar de forma correcta\n"
     ]
    }
   ],
   "source": [
    "explain_groups(groups_to_explain_df)"
   ]
  },
  {
   "cell_type": "markdown",
   "id": "54bec38c",
   "metadata": {},
   "source": [
    "## Buscamos grupos con las respuestas 107"
   ]
  },
  {
   "cell_type": "code",
   "execution_count": 8,
   "id": "1a4fb2d8",
   "metadata": {},
   "outputs": [
    {
     "name": "stdout",
     "output_type": "stream",
     "text": [
      "Max common answers: [40.  9.]\n",
      "Size of X% of group: [52  9]\n",
      "Max common answers: [ 9.  9. 40.]\n",
      "Size of X% of group: [12  9 40]\n",
      "Max common answers: [40.  3.  3.  6.]\n",
      "Size of X% of group: [49  3  3  6]\n",
      "Max common answers: [17.  9.  9. 18.  5.]\n",
      "Size of X% of group: [17  9 12 18  5]\n",
      "Max common answers: [ 9. 11. 27.  1.  1.  4.]\n",
      "Size of X% of group: [ 9 11 35  1  1  4]\n",
      "Max common answers: [ 9.  5. 29.  1. 11.  3.  3.]\n",
      "Size of X% of group: [ 9  5 29  1 11  3  3]\n",
      "-----------\n",
      "## GROUP 0\n",
      "# N. MEMBERS: 9\n",
      "# COMMON ANS:\n",
      "  - Andando\n",
      "-----------\n",
      "## GROUP 1\n",
      "# N. MEMBERS: 5\n",
      "# COMMON ANS:\n",
      "  - En coche\n",
      "  - Quizá estaría dispuesto a cambiar de medio de transporte\n",
      "-----------\n",
      "## GROUP 2\n",
      "# N. MEMBERS: 29\n",
      "# COMMON ANS:\n",
      "  - Estaría dispuesto a cambiar de medio de transporte\n",
      "-----------\n",
      "## GROUP 3\n",
      "# N. MEMBERS: 1\n",
      "# COMMON ANS:\n",
      "  - En patinete\n",
      "  - Quizá estaría dispuesto a cambiar de medio de transporte\n",
      "-----------\n",
      "## GROUP 4\n",
      "# N. MEMBERS: 11\n",
      "# COMMON ANS:\n",
      "  - En coche\n",
      "  - Estaría dispuesto a cambiar de medio de transporte\n",
      "-----------\n",
      "## GROUP 5\n",
      "# N. MEMBERS: 3\n",
      "# COMMON ANS:\n",
      "  - En autobús\n",
      "  - No estaría dispuesto a cambiar de medio de transporte\n",
      "-----------\n",
      "## GROUP 6\n",
      "# N. MEMBERS: 3\n",
      "# COMMON ANS:\n",
      "  - En autobús\n",
      "  - Quizá estaría dispuesto a cambiar de medio de transporte\n"
     ]
    }
   ],
   "source": [
    "# Paso 1: Definimos los datos a usar para detectar usuarios\n",
    "indexes = chain(q107a_index, q107b_index) # Se pueden combinar\n",
    "data = users_df.iloc[:,indexes]\n",
    "\n",
    "groups_to_explain_df, users_groups_df = search_groups(data, indexes)\n",
    "\n",
    "explain_groups(groups_to_explain_df)"
   ]
  },
  {
   "cell_type": "code",
   "execution_count": 22,
   "id": "c3322c28",
   "metadata": {},
   "outputs": [],
   "source": [
    "# Obtenemos los ids de grupos que queremos eliminar (menos de 2 usuarios)\n",
    "filter_groups = users_groups_df.groupby(by='group').count()['UserId'] < 2\n",
    "groups_to_filter = filter_groups.index.values[filter_groups]"
   ]
  },
  {
   "cell_type": "code",
   "execution_count": 27,
   "id": "a39490a1",
   "metadata": {},
   "outputs": [],
   "source": [
    "# Quitamos el grupo del dataset\n",
    "user_out = len(users_groups_df[users_groups_df['group'].isin(groups_to_filter)])\n",
    "users_groups_df = users_groups_df[~users_groups_df['group'].isin(groups_to_filter)]"
   ]
  },
  {
   "cell_type": "markdown",
   "id": "34c3778f",
   "metadata": {},
   "source": [
    "## Buscamos grupos con las respuestas 110"
   ]
  },
  {
   "cell_type": "code",
   "execution_count": 9,
   "id": "0270f9b6",
   "metadata": {},
   "outputs": [
    {
     "ename": "TypeError",
     "evalue": "unsupported operand type(s) for +: 'float' and 'str'",
     "output_type": "error",
     "traceback": [
      "\u001b[0;31m---------------------------------------------------------------------------\u001b[0m",
      "\u001b[0;31mTypeError\u001b[0m                                 Traceback (most recent call last)",
      "\u001b[0;32m/var/folders/w3/2gk573bs0lqdsfdmcky6vn0h0000gn/T/ipykernel_2947/3171463128.py\u001b[0m in \u001b[0;36m<module>\u001b[0;34m\u001b[0m\n\u001b[1;32m      3\u001b[0m \u001b[0mdata\u001b[0m \u001b[0;34m=\u001b[0m \u001b[0musers_df\u001b[0m\u001b[0;34m.\u001b[0m\u001b[0miloc\u001b[0m\u001b[0;34m[\u001b[0m\u001b[0;34m:\u001b[0m\u001b[0;34m,\u001b[0m\u001b[0mindexes\u001b[0m\u001b[0;34m]\u001b[0m\u001b[0;34m\u001b[0m\u001b[0;34m\u001b[0m\u001b[0m\n\u001b[1;32m      4\u001b[0m \u001b[0;34m\u001b[0m\u001b[0m\n\u001b[0;32m----> 5\u001b[0;31m \u001b[0mgroups_to_explain_df\u001b[0m\u001b[0;34m,\u001b[0m \u001b[0musers_groups_df\u001b[0m \u001b[0;34m=\u001b[0m \u001b[0msearch_groups\u001b[0m\u001b[0;34m(\u001b[0m\u001b[0mdata\u001b[0m\u001b[0;34m,\u001b[0m \u001b[0mindexes\u001b[0m\u001b[0;34m)\u001b[0m\u001b[0;34m\u001b[0m\u001b[0;34m\u001b[0m\u001b[0m\n\u001b[0m\u001b[1;32m      6\u001b[0m \u001b[0;34m\u001b[0m\u001b[0m\n\u001b[1;32m      7\u001b[0m \u001b[0mexplain_groups\u001b[0m\u001b[0;34m(\u001b[0m\u001b[0mgroups_to_explain_df\u001b[0m\u001b[0;34m)\u001b[0m\u001b[0;34m\u001b[0m\u001b[0;34m\u001b[0m\u001b[0m\n",
      "\u001b[0;32m/var/folders/w3/2gk573bs0lqdsfdmcky6vn0h0000gn/T/ipykernel_2947/2886464558.py\u001b[0m in \u001b[0;36msearch_groups\u001b[0;34m(data, indexes, percentage)\u001b[0m\n\u001b[1;32m      1\u001b[0m \u001b[0;32mdef\u001b[0m \u001b[0msearch_groups\u001b[0m\u001b[0;34m(\u001b[0m\u001b[0mdata\u001b[0m\u001b[0;34m,\u001b[0m \u001b[0mindexes\u001b[0m\u001b[0;34m,\u001b[0m \u001b[0mpercentage\u001b[0m\u001b[0;34m=\u001b[0m\u001b[0;36m1\u001b[0m\u001b[0;34m)\u001b[0m\u001b[0;34m:\u001b[0m\u001b[0;34m\u001b[0m\u001b[0;34m\u001b[0m\u001b[0m\n\u001b[1;32m      2\u001b[0m     \u001b[0;31m# Comprobamos que no hay algún usuario que solo contenga ceros\u001b[0m\u001b[0;34m\u001b[0m\u001b[0;34m\u001b[0m\u001b[0;34m\u001b[0m\u001b[0m\n\u001b[0;32m----> 3\u001b[0;31m     \u001b[0mcorrect_data\u001b[0m \u001b[0;34m=\u001b[0m \u001b[0mdata\u001b[0m\u001b[0;34m[\u001b[0m\u001b[0mdata\u001b[0m\u001b[0;34m.\u001b[0m\u001b[0mapply\u001b[0m\u001b[0;34m(\u001b[0m\u001b[0;32mlambda\u001b[0m \u001b[0mx\u001b[0m\u001b[0;34m:\u001b[0m \u001b[0mx\u001b[0m\u001b[0;34m.\u001b[0m\u001b[0mvalues\u001b[0m\u001b[0;34m.\u001b[0m\u001b[0msum\u001b[0m\u001b[0;34m(\u001b[0m\u001b[0;34m)\u001b[0m \u001b[0;34m!=\u001b[0m \u001b[0;36m0\u001b[0m\u001b[0;34m,\u001b[0m \u001b[0maxis\u001b[0m\u001b[0;34m=\u001b[0m\u001b[0;36m1\u001b[0m\u001b[0;34m)\u001b[0m\u001b[0;34m]\u001b[0m\u001b[0;34m\u001b[0m\u001b[0;34m\u001b[0m\u001b[0m\n\u001b[0m\u001b[1;32m      4\u001b[0m \u001b[0;34m\u001b[0m\u001b[0m\n\u001b[1;32m      5\u001b[0m     \u001b[0mn_clusters\u001b[0m \u001b[0;34m=\u001b[0m \u001b[0;36m2\u001b[0m\u001b[0;34m\u001b[0m\u001b[0;34m\u001b[0m\u001b[0m\n",
      "\u001b[0;32m~/.pyenv/versions/3.9.6/envs/community-model/lib/python3.9/site-packages/pandas/core/frame.py\u001b[0m in \u001b[0;36mapply\u001b[0;34m(self, func, axis, raw, result_type, args, **kwargs)\u001b[0m\n\u001b[1;32m   8734\u001b[0m             \u001b[0mkwargs\u001b[0m\u001b[0;34m=\u001b[0m\u001b[0mkwargs\u001b[0m\u001b[0;34m,\u001b[0m\u001b[0;34m\u001b[0m\u001b[0;34m\u001b[0m\u001b[0m\n\u001b[1;32m   8735\u001b[0m         )\n\u001b[0;32m-> 8736\u001b[0;31m         \u001b[0;32mreturn\u001b[0m \u001b[0mop\u001b[0m\u001b[0;34m.\u001b[0m\u001b[0mapply\u001b[0m\u001b[0;34m(\u001b[0m\u001b[0;34m)\u001b[0m\u001b[0;34m\u001b[0m\u001b[0;34m\u001b[0m\u001b[0m\n\u001b[0m\u001b[1;32m   8737\u001b[0m \u001b[0;34m\u001b[0m\u001b[0m\n\u001b[1;32m   8738\u001b[0m     def applymap(\n",
      "\u001b[0;32m~/.pyenv/versions/3.9.6/envs/community-model/lib/python3.9/site-packages/pandas/core/apply.py\u001b[0m in \u001b[0;36mapply\u001b[0;34m(self)\u001b[0m\n\u001b[1;32m    686\u001b[0m             \u001b[0;32mreturn\u001b[0m \u001b[0mself\u001b[0m\u001b[0;34m.\u001b[0m\u001b[0mapply_raw\u001b[0m\u001b[0;34m(\u001b[0m\u001b[0;34m)\u001b[0m\u001b[0;34m\u001b[0m\u001b[0;34m\u001b[0m\u001b[0m\n\u001b[1;32m    687\u001b[0m \u001b[0;34m\u001b[0m\u001b[0m\n\u001b[0;32m--> 688\u001b[0;31m         \u001b[0;32mreturn\u001b[0m \u001b[0mself\u001b[0m\u001b[0;34m.\u001b[0m\u001b[0mapply_standard\u001b[0m\u001b[0;34m(\u001b[0m\u001b[0;34m)\u001b[0m\u001b[0;34m\u001b[0m\u001b[0;34m\u001b[0m\u001b[0m\n\u001b[0m\u001b[1;32m    689\u001b[0m \u001b[0;34m\u001b[0m\u001b[0m\n\u001b[1;32m    690\u001b[0m     \u001b[0;32mdef\u001b[0m \u001b[0magg\u001b[0m\u001b[0;34m(\u001b[0m\u001b[0mself\u001b[0m\u001b[0;34m)\u001b[0m\u001b[0;34m:\u001b[0m\u001b[0;34m\u001b[0m\u001b[0;34m\u001b[0m\u001b[0m\n",
      "\u001b[0;32m~/.pyenv/versions/3.9.6/envs/community-model/lib/python3.9/site-packages/pandas/core/apply.py\u001b[0m in \u001b[0;36mapply_standard\u001b[0;34m(self)\u001b[0m\n\u001b[1;32m    803\u001b[0m \u001b[0;34m\u001b[0m\u001b[0m\n\u001b[1;32m    804\u001b[0m     \u001b[0;32mdef\u001b[0m \u001b[0mapply_standard\u001b[0m\u001b[0;34m(\u001b[0m\u001b[0mself\u001b[0m\u001b[0;34m)\u001b[0m\u001b[0;34m:\u001b[0m\u001b[0;34m\u001b[0m\u001b[0;34m\u001b[0m\u001b[0m\n\u001b[0;32m--> 805\u001b[0;31m         \u001b[0mresults\u001b[0m\u001b[0;34m,\u001b[0m \u001b[0mres_index\u001b[0m \u001b[0;34m=\u001b[0m \u001b[0mself\u001b[0m\u001b[0;34m.\u001b[0m\u001b[0mapply_series_generator\u001b[0m\u001b[0;34m(\u001b[0m\u001b[0;34m)\u001b[0m\u001b[0;34m\u001b[0m\u001b[0;34m\u001b[0m\u001b[0m\n\u001b[0m\u001b[1;32m    806\u001b[0m \u001b[0;34m\u001b[0m\u001b[0m\n\u001b[1;32m    807\u001b[0m         \u001b[0;31m# wrap results\u001b[0m\u001b[0;34m\u001b[0m\u001b[0;34m\u001b[0m\u001b[0;34m\u001b[0m\u001b[0m\n",
      "\u001b[0;32m~/.pyenv/versions/3.9.6/envs/community-model/lib/python3.9/site-packages/pandas/core/apply.py\u001b[0m in \u001b[0;36mapply_series_generator\u001b[0;34m(self)\u001b[0m\n\u001b[1;32m    819\u001b[0m             \u001b[0;32mfor\u001b[0m \u001b[0mi\u001b[0m\u001b[0;34m,\u001b[0m \u001b[0mv\u001b[0m \u001b[0;32min\u001b[0m \u001b[0menumerate\u001b[0m\u001b[0;34m(\u001b[0m\u001b[0mseries_gen\u001b[0m\u001b[0;34m)\u001b[0m\u001b[0;34m:\u001b[0m\u001b[0;34m\u001b[0m\u001b[0;34m\u001b[0m\u001b[0m\n\u001b[1;32m    820\u001b[0m                 \u001b[0;31m# ignore SettingWithCopy here in case the user mutates\u001b[0m\u001b[0;34m\u001b[0m\u001b[0;34m\u001b[0m\u001b[0;34m\u001b[0m\u001b[0m\n\u001b[0;32m--> 821\u001b[0;31m                 \u001b[0mresults\u001b[0m\u001b[0;34m[\u001b[0m\u001b[0mi\u001b[0m\u001b[0;34m]\u001b[0m \u001b[0;34m=\u001b[0m \u001b[0mself\u001b[0m\u001b[0;34m.\u001b[0m\u001b[0mf\u001b[0m\u001b[0;34m(\u001b[0m\u001b[0mv\u001b[0m\u001b[0;34m)\u001b[0m\u001b[0;34m\u001b[0m\u001b[0;34m\u001b[0m\u001b[0m\n\u001b[0m\u001b[1;32m    822\u001b[0m                 \u001b[0;32mif\u001b[0m \u001b[0misinstance\u001b[0m\u001b[0;34m(\u001b[0m\u001b[0mresults\u001b[0m\u001b[0;34m[\u001b[0m\u001b[0mi\u001b[0m\u001b[0;34m]\u001b[0m\u001b[0;34m,\u001b[0m \u001b[0mABCSeries\u001b[0m\u001b[0;34m)\u001b[0m\u001b[0;34m:\u001b[0m\u001b[0;34m\u001b[0m\u001b[0;34m\u001b[0m\u001b[0m\n\u001b[1;32m    823\u001b[0m                     \u001b[0;31m# If we have a view on v, we need to make a copy because\u001b[0m\u001b[0;34m\u001b[0m\u001b[0;34m\u001b[0m\u001b[0;34m\u001b[0m\u001b[0m\n",
      "\u001b[0;32m/var/folders/w3/2gk573bs0lqdsfdmcky6vn0h0000gn/T/ipykernel_2947/2886464558.py\u001b[0m in \u001b[0;36m<lambda>\u001b[0;34m(x)\u001b[0m\n\u001b[1;32m      1\u001b[0m \u001b[0;32mdef\u001b[0m \u001b[0msearch_groups\u001b[0m\u001b[0;34m(\u001b[0m\u001b[0mdata\u001b[0m\u001b[0;34m,\u001b[0m \u001b[0mindexes\u001b[0m\u001b[0;34m,\u001b[0m \u001b[0mpercentage\u001b[0m\u001b[0;34m=\u001b[0m\u001b[0;36m1\u001b[0m\u001b[0;34m)\u001b[0m\u001b[0;34m:\u001b[0m\u001b[0;34m\u001b[0m\u001b[0;34m\u001b[0m\u001b[0m\n\u001b[1;32m      2\u001b[0m     \u001b[0;31m# Comprobamos que no hay algún usuario que solo contenga ceros\u001b[0m\u001b[0;34m\u001b[0m\u001b[0;34m\u001b[0m\u001b[0;34m\u001b[0m\u001b[0m\n\u001b[0;32m----> 3\u001b[0;31m     \u001b[0mcorrect_data\u001b[0m \u001b[0;34m=\u001b[0m \u001b[0mdata\u001b[0m\u001b[0;34m[\u001b[0m\u001b[0mdata\u001b[0m\u001b[0;34m.\u001b[0m\u001b[0mapply\u001b[0m\u001b[0;34m(\u001b[0m\u001b[0;32mlambda\u001b[0m \u001b[0mx\u001b[0m\u001b[0;34m:\u001b[0m \u001b[0mx\u001b[0m\u001b[0;34m.\u001b[0m\u001b[0mvalues\u001b[0m\u001b[0;34m.\u001b[0m\u001b[0msum\u001b[0m\u001b[0;34m(\u001b[0m\u001b[0;34m)\u001b[0m \u001b[0;34m!=\u001b[0m \u001b[0;36m0\u001b[0m\u001b[0;34m,\u001b[0m \u001b[0maxis\u001b[0m\u001b[0;34m=\u001b[0m\u001b[0;36m1\u001b[0m\u001b[0;34m)\u001b[0m\u001b[0;34m]\u001b[0m\u001b[0;34m\u001b[0m\u001b[0;34m\u001b[0m\u001b[0m\n\u001b[0m\u001b[1;32m      4\u001b[0m \u001b[0;34m\u001b[0m\u001b[0m\n\u001b[1;32m      5\u001b[0m     \u001b[0mn_clusters\u001b[0m \u001b[0;34m=\u001b[0m \u001b[0;36m2\u001b[0m\u001b[0;34m\u001b[0m\u001b[0;34m\u001b[0m\u001b[0m\n",
      "\u001b[0;32m~/.pyenv/versions/3.9.6/envs/community-model/lib/python3.9/site-packages/numpy/core/_methods.py\u001b[0m in \u001b[0;36m_sum\u001b[0;34m(a, axis, dtype, out, keepdims, initial, where)\u001b[0m\n\u001b[1;32m     46\u001b[0m def _sum(a, axis=None, dtype=None, out=None, keepdims=False,\n\u001b[1;32m     47\u001b[0m          initial=_NoValue, where=True):\n\u001b[0;32m---> 48\u001b[0;31m     \u001b[0;32mreturn\u001b[0m \u001b[0mumr_sum\u001b[0m\u001b[0;34m(\u001b[0m\u001b[0ma\u001b[0m\u001b[0;34m,\u001b[0m \u001b[0maxis\u001b[0m\u001b[0;34m,\u001b[0m \u001b[0mdtype\u001b[0m\u001b[0;34m,\u001b[0m \u001b[0mout\u001b[0m\u001b[0;34m,\u001b[0m \u001b[0mkeepdims\u001b[0m\u001b[0;34m,\u001b[0m \u001b[0minitial\u001b[0m\u001b[0;34m,\u001b[0m \u001b[0mwhere\u001b[0m\u001b[0;34m)\u001b[0m\u001b[0;34m\u001b[0m\u001b[0;34m\u001b[0m\u001b[0m\n\u001b[0m\u001b[1;32m     49\u001b[0m \u001b[0;34m\u001b[0m\u001b[0m\n\u001b[1;32m     50\u001b[0m def _prod(a, axis=None, dtype=None, out=None, keepdims=False,\n",
      "\u001b[0;31mTypeError\u001b[0m: unsupported operand type(s) for +: 'float' and 'str'"
     ]
    }
   ],
   "source": [
    "# Paso 1: Definimos los datos a usar para detectar usuarios\n",
    "indexes = chain(q110a_index, q110b_index) # Se pueden combinar\n",
    "data = users_df.iloc[:,indexes]\n",
    "\n",
    "groups_to_explain_df, users_groups_df = search_groups(data, indexes)\n",
    "\n",
    "explain_groups(groups_to_explain_df)"
   ]
  },
  {
   "cell_type": "markdown",
   "id": "258bfa1f",
   "metadata": {},
   "source": [
    "## Buscamos grupos con las respuestas 103 y 107"
   ]
  },
  {
   "cell_type": "code",
   "execution_count": null,
   "id": "e71fd351",
   "metadata": {},
   "outputs": [],
   "source": [
    "# Paso 1: Definimos los datos a usar para detectar usuarios\n",
    "indexes = chain(q103_index, q107a_index, q107b_index) # Se pueden combinar\n",
    "data = users_df.iloc[:,indexes]\n",
    "\n",
    "groups_to_explain_df, users_groups_df = search_groups(data, indexes, percentage=0.94)\n",
    "\n",
    "explain_groups(groups_to_explain_df)"
   ]
  },
  {
   "cell_type": "markdown",
   "id": "a67e16be",
   "metadata": {},
   "source": [
    "## Exportar a Gephi\n",
    "\n",
    "Vamos a exportar los datos de las comunidades a Gephi para visualizarlos."
   ]
  },
  {
   "cell_type": "code",
   "execution_count": null,
   "id": "7e9ab9a1",
   "metadata": {},
   "outputs": [],
   "source": [
    "from community_module.visualization.gephiVisualization import GephiVisualization\n",
    "\n",
    "gv = GephiVisualization()"
   ]
  },
  {
   "cell_type": "code",
   "execution_count": null,
   "id": "c42888cb",
   "metadata": {},
   "outputs": [],
   "source": [
    "from sklearn.metrics.pairwise import cosine_similarity\n",
    "\n",
    "# Preparamos los datos de usuarios y distancias\n",
    "users = users_groups_df[['UserId', 'group']].values\n",
    "distances = cosine_similarity(data)"
   ]
  },
  {
   "cell_type": "code",
   "execution_count": null,
   "id": "5585371e",
   "metadata": {},
   "outputs": [],
   "source": [
    "gv.load_community(users, distances)"
   ]
  },
  {
   "cell_type": "code",
   "execution_count": null,
   "id": "3a9a0cfe",
   "metadata": {},
   "outputs": [],
   "source": [
    "gv.clean_graph()"
   ]
  },
  {
   "cell_type": "markdown",
   "id": "043474a7",
   "metadata": {},
   "source": [
    "## Comprobación grupos"
   ]
  },
  {
   "cell_type": "code",
   "execution_count": null,
   "id": "e9798010",
   "metadata": {},
   "outputs": [],
   "source": [
    "# Ver que pasa con los grupos dispersos\n",
    "index_community_users = users_groups_df[users_groups_df['group'] == 6].index.values"
   ]
  },
  {
   "cell_type": "code",
   "execution_count": null,
   "id": "bcca85a1",
   "metadata": {},
   "outputs": [],
   "source": [
    "pd.DataFrame(distances).iloc[index_community_users, index_community_users]"
   ]
  },
  {
   "cell_type": "code",
   "execution_count": null,
   "id": "016dc08f",
   "metadata": {},
   "outputs": [],
   "source": [
    "users_groups_df.iloc[index_community_users]['UserId']"
   ]
  },
  {
   "cell_type": "code",
   "execution_count": null,
   "id": "ac069f5f",
   "metadata": {},
   "outputs": [],
   "source": [
    "index_community_users = users_groups_df[users_groups_df['group'] == 0].index.values\n",
    "pd.DataFrame(distances).iloc[index_community_users, index_community_users]"
   ]
  },
  {
   "cell_type": "code",
   "execution_count": null,
   "id": "c4db3398",
   "metadata": {},
   "outputs": [],
   "source": [
    "users_groups_df.iloc[index_community_users]['UserId']"
   ]
  },
  {
   "cell_type": "code",
   "execution_count": null,
   "id": "4bcfce5a",
   "metadata": {},
   "outputs": [],
   "source": []
  }
 ],
 "metadata": {
  "kernelspec": {
   "display_name": "Python 3 (ipykernel)",
   "language": "python",
   "name": "python3"
  },
  "language_info": {
   "codemirror_mode": {
    "name": "ipython",
    "version": 3
   },
   "file_extension": ".py",
   "mimetype": "text/x-python",
   "name": "python",
   "nbconvert_exporter": "python",
   "pygments_lexer": "ipython3",
   "version": "3.9.6"
  }
 },
 "nbformat": 4,
 "nbformat_minor": 5
}
