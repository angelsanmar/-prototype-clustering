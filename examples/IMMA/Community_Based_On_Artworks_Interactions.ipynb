{
 "cells": [
  {
   "cell_type": "code",
   "execution_count": 1,
   "id": "b5f8419c",
   "metadata": {},
   "outputs": [],
   "source": [
    "import pandas as pd\n",
    "import numpy as np\n",
    "\n",
    "from context import community_module\n",
    "from community_module.community_detection.similarityCommunityDetection import SimilarityCommunityDetection\n",
    "from community_module.community_detection.explainedCommunitiesDetection import ExplainedCommunitiesDetection\n",
    "from community_module.visualization.gephiVisualization import GephiVisualization\n",
    "\n",
    "from sklearn.metrics.pairwise import cosine_similarity"
   ]
  },
  {
   "cell_type": "code",
   "execution_count": 2,
   "id": "d219cc6d",
   "metadata": {},
   "outputs": [
    {
     "data": {
      "text/html": [
       "<div>\n",
       "<style scoped>\n",
       "    .dataframe tbody tr th:only-of-type {\n",
       "        vertical-align: middle;\n",
       "    }\n",
       "\n",
       "    .dataframe tbody tr th {\n",
       "        vertical-align: top;\n",
       "    }\n",
       "\n",
       "    .dataframe thead th {\n",
       "        text-align: right;\n",
       "    }\n",
       "</style>\n",
       "<table border=\"1\" class=\"dataframe\">\n",
       "  <thead>\n",
       "    <tr style=\"text-align: right;\">\n",
       "      <th></th>\n",
       "      <th>userResponseID</th>\n",
       "      <th>artworkID</th>\n",
       "      <th>numInteractions</th>\n",
       "    </tr>\n",
       "  </thead>\n",
       "  <tbody>\n",
       "    <tr>\n",
       "      <th>0</th>\n",
       "      <td>81PfE8l9tbFhtvxOE6X5VOh2UpBiYgCO</td>\n",
       "      <td>60c0927e0ee8234e932e7a1d</td>\n",
       "      <td>1</td>\n",
       "    </tr>\n",
       "    <tr>\n",
       "      <th>1</th>\n",
       "      <td>BZXf8rM1IAoDUtW01ShxYw8MxjHtGF5S</td>\n",
       "      <td>60c08c580ee8234e932e7a18</td>\n",
       "      <td>1</td>\n",
       "    </tr>\n",
       "    <tr>\n",
       "      <th>2</th>\n",
       "      <td>BZXf8rM1IAoDUtW01ShxYw8MxjHtGF5S</td>\n",
       "      <td>60c0908cb5b26479a17d1b33</td>\n",
       "      <td>1</td>\n",
       "    </tr>\n",
       "    <tr>\n",
       "      <th>3</th>\n",
       "      <td>BZXf8rM1IAoDUtW01ShxYw8MxjHtGF5S</td>\n",
       "      <td>60c09225b5b26479a17d1b3a</td>\n",
       "      <td>1</td>\n",
       "    </tr>\n",
       "    <tr>\n",
       "      <th>4</th>\n",
       "      <td>BZXf8rM1IAoDUtW01ShxYw8MxjHtGF5S</td>\n",
       "      <td>60c0927e0ee8234e932e7a1d</td>\n",
       "      <td>1</td>\n",
       "    </tr>\n",
       "  </tbody>\n",
       "</table>\n",
       "</div>"
      ],
      "text/plain": [
       "                     userResponseID                 artworkID  numInteractions\n",
       "0  81PfE8l9tbFhtvxOE6X5VOh2UpBiYgCO  60c0927e0ee8234e932e7a1d                1\n",
       "1  BZXf8rM1IAoDUtW01ShxYw8MxjHtGF5S  60c08c580ee8234e932e7a18                1\n",
       "2  BZXf8rM1IAoDUtW01ShxYw8MxjHtGF5S  60c0908cb5b26479a17d1b33                1\n",
       "3  BZXf8rM1IAoDUtW01ShxYw8MxjHtGF5S  60c09225b5b26479a17d1b3a                1\n",
       "4  BZXf8rM1IAoDUtW01ShxYw8MxjHtGF5S  60c0927e0ee8234e932e7a1d                1"
      ]
     },
     "execution_count": 2,
     "metadata": {},
     "output_type": "execute_result"
    }
   ],
   "source": [
    "interactions_df = pd.read_csv('../../data/IMMA/citizenInteractions.csv')\n",
    "interactions_df.head()"
   ]
  },
  {
   "cell_type": "code",
   "execution_count": 3,
   "id": "127d7f3d",
   "metadata": {},
   "outputs": [],
   "source": [
    "users_interactions = pd.pivot_table(interactions_df, values='numInteractions', index='userResponseID', columns='artworkID', fill_value=0)\n"
   ]
  },
  {
   "cell_type": "code",
   "execution_count": 4,
   "id": "fc8aeed8",
   "metadata": {},
   "outputs": [],
   "source": [
    "community_dectection = ExplainedCommunitiesDetection(users_interactions, SimilarityCommunityDetection, 'cosine')"
   ]
  },
  {
   "cell_type": "code",
   "execution_count": 21,
   "id": "8e5f8613",
   "metadata": {},
   "outputs": [],
   "source": [
    "n_communities, users_communities = community_dectection.search_all_communities(percentage=0.78)"
   ]
  },
  {
   "cell_type": "code",
   "execution_count": 6,
   "id": "30392c4b",
   "metadata": {},
   "outputs": [],
   "source": [
    "users_interactions['community'] = users_communities.values()\n",
    "users_interactions.reset_index(inplace=True)"
   ]
  },
  {
   "cell_type": "code",
   "execution_count": 7,
   "id": "4aca2bc8",
   "metadata": {},
   "outputs": [],
   "source": [
    "# Pintamos en Gephi\n",
    "gv = GephiVisualization(workspace='imma')\n",
    "\n",
    "# Preparamos los datos de usuarios y distancias\n",
    "users = users_interactions[['userResponseID','community']].values\n",
    "data = users_interactions.iloc[:,1:-1].values\n",
    "distances = cosine_similarity(data)\n",
    "\n",
    "gv.load_community(users, distances, users_properties=['community'])"
   ]
  },
  {
   "cell_type": "code",
   "execution_count": 23,
   "id": "0f4a9a25",
   "metadata": {},
   "outputs": [
    {
     "data": {
      "text/html": [
       "<div>\n",
       "<style scoped>\n",
       "    .dataframe tbody tr th:only-of-type {\n",
       "        vertical-align: middle;\n",
       "    }\n",
       "\n",
       "    .dataframe tbody tr th {\n",
       "        vertical-align: top;\n",
       "    }\n",
       "\n",
       "    .dataframe thead th {\n",
       "        text-align: right;\n",
       "    }\n",
       "</style>\n",
       "<table border=\"1\" class=\"dataframe\">\n",
       "  <thead>\n",
       "    <tr style=\"text-align: right;\">\n",
       "      <th>artworkID</th>\n",
       "      <th>userResponseID</th>\n",
       "      <th>community</th>\n",
       "    </tr>\n",
       "  </thead>\n",
       "  <tbody>\n",
       "    <tr>\n",
       "      <th>0</th>\n",
       "      <td>81PfE8l9tbFhtvxOE6X5VOh2UpBiYgCO</td>\n",
       "      <td>0</td>\n",
       "    </tr>\n",
       "    <tr>\n",
       "      <th>1</th>\n",
       "      <td>BZXf8rM1IAoDUtW01ShxYw8MxjHtGF5S</td>\n",
       "      <td>2</td>\n",
       "    </tr>\n",
       "    <tr>\n",
       "      <th>2</th>\n",
       "      <td>KL32ozS4irwGu3JtWd0x5p8AV9kXlS9I</td>\n",
       "      <td>6</td>\n",
       "    </tr>\n",
       "    <tr>\n",
       "      <th>3</th>\n",
       "      <td>P4M8Uto1UwzTd3OKOns3LZ7hIxBheAg1</td>\n",
       "      <td>0</td>\n",
       "    </tr>\n",
       "    <tr>\n",
       "      <th>4</th>\n",
       "      <td>SUw10XRrB4A03Ral1MKas4sLgIW9P3lh</td>\n",
       "      <td>3</td>\n",
       "    </tr>\n",
       "    <tr>\n",
       "      <th>5</th>\n",
       "      <td>ScOlinhmp6Rxo9aqywrKMR8J0S90qNQA</td>\n",
       "      <td>2</td>\n",
       "    </tr>\n",
       "    <tr>\n",
       "      <th>6</th>\n",
       "      <td>ZqNE3fNu8JXVIadgc5epXYofaOtgEE7F</td>\n",
       "      <td>5</td>\n",
       "    </tr>\n",
       "    <tr>\n",
       "      <th>7</th>\n",
       "      <td>aQIxJWU4S2YAOGA93ItHtmuEeNbhudnY</td>\n",
       "      <td>2</td>\n",
       "    </tr>\n",
       "    <tr>\n",
       "      <th>8</th>\n",
       "      <td>iCY4NVfyljZxazkltmZh5YiAnY2b3Rm4</td>\n",
       "      <td>1</td>\n",
       "    </tr>\n",
       "    <tr>\n",
       "      <th>9</th>\n",
       "      <td>k5SXzdwN9UPY2FXUC1vavDtk3CykTKXR</td>\n",
       "      <td>1</td>\n",
       "    </tr>\n",
       "    <tr>\n",
       "      <th>10</th>\n",
       "      <td>r6ojHpr4LeGQQcGcSXFGsFQVJzdGYwzE</td>\n",
       "      <td>4</td>\n",
       "    </tr>\n",
       "  </tbody>\n",
       "</table>\n",
       "</div>"
      ],
      "text/plain": [
       "artworkID                    userResponseID  community\n",
       "0          81PfE8l9tbFhtvxOE6X5VOh2UpBiYgCO          0\n",
       "1          BZXf8rM1IAoDUtW01ShxYw8MxjHtGF5S          2\n",
       "2          KL32ozS4irwGu3JtWd0x5p8AV9kXlS9I          6\n",
       "3          P4M8Uto1UwzTd3OKOns3LZ7hIxBheAg1          0\n",
       "4          SUw10XRrB4A03Ral1MKas4sLgIW9P3lh          3\n",
       "5          ScOlinhmp6Rxo9aqywrKMR8J0S90qNQA          2\n",
       "6          ZqNE3fNu8JXVIadgc5epXYofaOtgEE7F          5\n",
       "7          aQIxJWU4S2YAOGA93ItHtmuEeNbhudnY          2\n",
       "8          iCY4NVfyljZxazkltmZh5YiAnY2b3Rm4          1\n",
       "9          k5SXzdwN9UPY2FXUC1vavDtk3CykTKXR          1\n",
       "10         r6ojHpr4LeGQQcGcSXFGsFQVJzdGYwzE          4"
      ]
     },
     "execution_count": 23,
     "metadata": {},
     "output_type": "execute_result"
    }
   ],
   "source": [
    "users_interactions[['userResponseID', 'community']]"
   ]
  },
  {
   "cell_type": "code",
   "execution_count": 31,
   "id": "23d2ce48",
   "metadata": {},
   "outputs": [
    {
     "name": "stdout",
     "output_type": "stream",
     "text": [
      "---------------------\n",
      "COMMUNITY - 0\n",
      "\t- N. Members: 2\n",
      "\t- Properties:\n",
      "\t\t- 60c0927e0ee8234e932e7a1d\n",
      "---------------------\n",
      "COMMUNITY - 1\n",
      "\t- N. Members: 2\n",
      "\t- Properties:\n",
      "\t\t- 60c09437b5b26479a17d1b3c\n",
      "\t\t- 60c094dcb78b241f4625bbb9\n",
      "---------------------\n",
      "COMMUNITY - 2\n",
      "\t- N. Members: 3\n",
      "\t- Properties:\n",
      "\t\t- 60c08c580ee8234e932e7a18\n",
      "\t\t- 60c0908cb5b26479a17d1b33\n",
      "\t\t- 60c09225b5b26479a17d1b3a\n",
      "\t\t- 60c0927e0ee8234e932e7a1d\n",
      "\t\t- 60c09476b84c4b312635d34c\n",
      "\t\t- 60c095321262e65eec197529\n",
      "---------------------\n",
      "N. USERS WITHOUT COMMUNITY - 4\n"
     ]
    }
   ],
   "source": [
    "users_without_community = []\n",
    "for c in range(n_communities):\n",
    "    community_data = community_dectection.get_community(c, answer_binary=True)\n",
    "\n",
    "    if len(community_data['members']) > 1:\n",
    "\n",
    "        print('---------------------')\n",
    "        print('COMMUNITY -', community_data['name'])\n",
    "        print('\\t- N. Members:', len(community_data['members']))\n",
    "        print('\\t- Properties:')\n",
    "\n",
    "        for k in community_data['properties'].keys():\n",
    "            print('\\t\\t-', k)\n",
    "    else:\n",
    "        users_without_community.extend(community_data['members'])\n",
    "\n",
    "print('---------------------')\n",
    "print('N. USERS WITHOUT COMMUNITY -', len(users_without_community))"
   ]
  },
  {
   "cell_type": "code",
   "execution_count": null,
   "id": "e8815a55",
   "metadata": {},
   "outputs": [],
   "source": []
  }
 ],
 "metadata": {
  "kernelspec": {
   "display_name": "Python 3 (ipykernel)",
   "language": "python",
   "name": "python3"
  },
  "language_info": {
   "codemirror_mode": {
    "name": "ipython",
    "version": 3
   },
   "file_extension": ".py",
   "mimetype": "text/x-python",
   "name": "python",
   "nbconvert_exporter": "python",
   "pygments_lexer": "ipython3",
   "version": "3.9.6"
  }
 },
 "nbformat": 4,
 "nbformat_minor": 5
}
